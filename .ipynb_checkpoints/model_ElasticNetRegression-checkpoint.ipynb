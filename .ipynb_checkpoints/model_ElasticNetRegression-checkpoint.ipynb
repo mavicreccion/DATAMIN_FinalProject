{
 "cells": [
  {
   "cell_type": "code",
   "execution_count": 109,
   "metadata": {
    "collapsed": true
   },
   "outputs": [],
   "source": [
    "from sklearn.model_selection import KFold, train_test_split\n",
    "from sklearn.metrics import r2_score, mean_squared_error\n",
    "from sklearn.linear_model import ElasticNet\n",
    "import numpy as np\n",
    "import pandas as pd\n",
    "import pylab as pl"
   ]
  },
  {
   "cell_type": "code",
   "execution_count": 110,
   "metadata": {
    "collapsed": true
   },
   "outputs": [],
   "source": [
    "weather_dataset1 = pd.read_csv('wwo_normalized_manila\\\\worldweatheronline_normalized_manila_2015_1day.csv', index_col=[0], parse_dates=[0], skipinitialspace=True)\n",
    "weather_dataset2 = pd.read_csv('wwo_normalized_manila\\\\worldweatheronline_normalized_manila_2016_1day.csv', index_col=[0], parse_dates=[0], skipinitialspace=True)\n",
    "weather_dataset3 = pd.read_csv('wwo_normalized_manila\\\\worldweatheronline_normalized_manila_2017_1day.csv', index_col=[0], parse_dates=[0], skipinitialspace=True)\n",
    "weather_dataset = []\n",
    "# weather_dataset.append(weather_dataset1)\n",
    "weather_dataset.append(weather_dataset2)\n",
    "weather_dataset.append(weather_dataset3)\n",
    "weather_dataset = pd.concat(weather_dataset)"
   ]
  },
  {
   "cell_type": "markdown",
   "metadata": {},
   "source": [
    "# Using All Weather Variables"
   ]
  },
  {
   "cell_type": "code",
   "execution_count": 111,
   "metadata": {
    "collapsed": true
   },
   "outputs": [],
   "source": [
    "# Remove unused columns and reorder \n",
    "weather_dataset = weather_dataset[['precipMM', 'tempC', 'windspeedKmph', 'cond', 'humidity', 'visibility', 'pressure', 'cloudcover', 'heatIndexC', 'dewPointC', 'windChillC', 'windGustKmph', 'feelsLikeC']]"
   ]
  },
  {
   "cell_type": "code",
   "execution_count": 112,
   "metadata": {
    "collapsed": true
   },
   "outputs": [],
   "source": [
    "# In order to do multiple regression we need to add a column of 1s for x0\n",
    "x = weather_dataset.loc[:, weather_dataset.columns != 'precipMM'].values.tolist()\n",
    "x = np.array([np.concatenate((v,[1])) for v in x])\n",
    "\n",
    "# independent variable\n",
    "y = weather_dataset['precipMM']"
   ]
  },
  {
   "cell_type": "markdown",
   "metadata": {},
   "source": [
    "## Elastic-Net Regression using train_test_split"
   ]
  },
  {
   "cell_type": "code",
   "execution_count": 113,
   "metadata": {},
   "outputs": [
    {
     "data": {
      "text/plain": [
       "ElasticNet(alpha=0.5, copy_X=True, fit_intercept=True, l1_ratio=0.5,\n",
       "      max_iter=1000, normalize=False, positive=False, precompute=False,\n",
       "      random_state=None, selection='cyclic', tol=0.0001, warm_start=False)"
      ]
     },
     "execution_count": 113,
     "metadata": {},
     "output_type": "execute_result"
    }
   ],
   "source": [
    "# Create elastic-net regression object with a ridge coefficient 0.5\n",
    "e_net = ElasticNet(fit_intercept=True, alpha=0.5)\n",
    "\n",
    "X_train, X_test, Y_train, Y_test = train_test_split(x, y, test_size=0.50, shuffle=False)\n",
    "\n",
    "# Train the model using the training set\n",
    "e_net.fit(X_train,Y_train)"
   ]
  },
  {
   "cell_type": "code",
   "execution_count": 114,
   "metadata": {},
   "outputs": [
    {
     "name": "stdout",
     "output_type": "stream",
     "text": [
      "R2 score -0.0294986434398\n",
      "RMSE 0.0337736496786\n"
     ]
    }
   ],
   "source": [
    "p = e_net.predict(X_test)\n",
    "\n",
    "# Compute RMSE and r2_score on training data\n",
    "r2score_train = r2_score(Y_test, p)\n",
    "rmse_train = np.sqrt(mean_squared_error(Y_test, p))\n",
    "\n",
    "print(\"R2 score\", r2score_train)\n",
    "print(\"RMSE\", rmse_train)"
   ]
  },
  {
   "cell_type": "code",
   "execution_count": 115,
   "metadata": {},
   "outputs": [
    {
     "name": "stdout",
     "output_type": "stream",
     "text": [
      "Regression Coefficients: \n",
      " [-0.  0.  0.  0. -0. -0.  0. -0.  0. -0.  0. -0.  0.]\n"
     ]
    }
   ],
   "source": [
    "# We can view the regression coefficients\n",
    "print( 'Regression Coefficients: \\n', e_net.coef_)"
   ]
  },
  {
   "cell_type": "code",
   "execution_count": 116,
   "metadata": {},
   "outputs": [
    {
     "data": {
      "image/png": "[encoded data removed]",
      "text/plain": [
       "<matplotlib.figure.Figure at 0x24c48efa9e8>"
      ]
     },
     "metadata": {},
     "output_type": "display_data"
    }
   ],
   "source": [
    "# Plot outputs\n",
    "%matplotlib inline\n",
    "pl.plot(p, Y_test,'ro')\n",
    "pl.plot([0,0.4],[0,0.4], 'g-')\n",
    "pl.xlabel('predicted')\n",
    "pl.ylabel('real')\n",
    "pl.show()"
   ]
  },
  {
   "cell_type": "markdown",
   "metadata": {},
   "source": [
    "## Elastic-Net Regression using 10-fold cross validation"
   ]
  },
  {
   "cell_type": "code",
   "execution_count": 117,
   "metadata": {
    "collapsed": true
   },
   "outputs": [],
   "source": [
    "# Now let's compute RMSE using 10-fold x-validation\n",
    "kf = KFold(n_splits=10, shuffle=False, random_state=None)\n",
    "xval_err = 0\n",
    "for train_index, test_index in kf.split(x):\n",
    "    x_train, x_test = x[train_index], x[test_index]\n",
    "    y_train, y_test = y[train_index], y[test_index]\n",
    "    \n",
    "    e_net.fit(x_train, y_train)\n",
    "    p = e_net.predict(x_test)\n",
    "    e = p-y_test\n",
    "    xval_err += np.dot(e,e)\n",
    "    \n",
    "rmse_10cv = np.sqrt(xval_err/len(x))"
   ]
  },
  {
   "cell_type": "code",
   "execution_count": 118,
   "metadata": {},
   "outputs": [
    {
     "name": "stdout",
     "output_type": "stream",
     "text": [
      "Method: Elastic-Net Regression\n",
      "R2 score on training: -0.029499\n",
      "RMSE on training: 0.033774\n",
      "RMSE on 10-fold CV: 0.045936\n"
     ]
    }
   ],
   "source": [
    "method_name = 'Elastic-Net Regression'\n",
    "print('Method: %s' %method_name)\n",
    "print('R2 score on training: %.6f'  %r2score_train)\n",
    "print('RMSE on training: %.6f'  %rmse_train)\n",
    "print('RMSE on 10-fold CV: %.6f'  %rmse_10cv)"
   ]
  },
  {
   "cell_type": "markdown",
   "metadata": {},
   "source": [
    "# Using Correlated Weather Variables"
   ]
  },
  {
   "cell_type": "code",
   "execution_count": 119,
   "metadata": {
    "collapsed": true,
    "scrolled": true
   },
   "outputs": [],
   "source": [
    "# Remove unused columns and reorder \n",
    "weather_dataset = weather_dataset[['precipMM', 'humidity', 'cloudcover', 'dewPointC']]"
   ]
  },
  {
   "cell_type": "code",
   "execution_count": 120,
   "metadata": {
    "collapsed": true
   },
   "outputs": [],
   "source": [
    "# In order to do multiple regression we need to add a column of 1s for x0\n",
    "x = weather_dataset.loc[:, weather_dataset.columns != 'precipMM'].values.tolist()\n",
    "x = np.array([np.concatenate((v,[1])) for v in x])\n",
    "\n",
    "# independent variable\n",
    "y = weather_dataset['precipMM']"
   ]
  },
  {
   "cell_type": "markdown",
   "metadata": {},
   "source": [
    "## Multiple Linear Regression using train_test_split"
   ]
  },
  {
   "cell_type": "code",
   "execution_count": 121,
   "metadata": {},
   "outputs": [
    {
     "data": {
      "text/plain": [
       "ElasticNet(alpha=0.5, copy_X=True, fit_intercept=True, l1_ratio=0.5,\n",
       "      max_iter=1000, normalize=False, positive=False, precompute=False,\n",
       "      random_state=None, selection='cyclic', tol=0.0001, warm_start=False)"
      ]
     },
     "execution_count": 121,
     "metadata": {},
     "output_type": "execute_result"
    }
   ],
   "source": [
    "# Create elastic-net regression object with a ridge coefficient 0.5\n",
    "e_net = ElasticNet(fit_intercept=True, alpha=0.5)\n",
    "\n",
    "X_train, X_test, Y_train, Y_test = train_test_split(x, y, test_size=0.50, shuffle=False)\n",
    "\n",
    "# Train the model using the training set\n",
    "e_net.fit(X_train,Y_train)"
   ]
  },
  {
   "cell_type": "code",
   "execution_count": 122,
   "metadata": {},
   "outputs": [
    {
     "name": "stdout",
     "output_type": "stream",
     "text": [
      "R2 score -0.0294986434398\n",
      "RMSE 0.0337736496786\n"
     ]
    }
   ],
   "source": [
    "p = e_net.predict(X_test)\n",
    "\n",
    "# Compute RMSE and r2_score on training data\n",
    "r2score_train_corr = r2_score(Y_test, p)\n",
    "rmse_train_corr = np.sqrt(mean_squared_error(Y_test, p))\n",
    "\n",
    "print(\"R2 score\", r2score_train_corr)\n",
    "print(\"RMSE\", rmse_train_corr)"
   ]
  },
  {
   "cell_type": "code",
   "execution_count": 123,
   "metadata": {},
   "outputs": [
    {
     "name": "stdout",
     "output_type": "stream",
     "text": [
      "Regression Coefficients: \n",
      " [ 0.  0.  0.  0.]\n"
     ]
    }
   ],
   "source": [
    "# We can view the regression coefficients\n",
    "print( 'Regression Coefficients: \\n', e_net.coef_)"
   ]
  },
  {
   "cell_type": "code",
   "execution_count": 124,
   "metadata": {},
   "outputs": [
    {
     "data": {
      "image/png": "[encoded data removed]",
      "text/plain": [
       "<matplotlib.figure.Figure at 0x24c48ffe630>"
      ]
     },
     "metadata": {},
     "output_type": "display_data"
    }
   ],
   "source": [
    "# Plot outputs\n",
    "%matplotlib inline\n",
    "pl.plot(p, Y_test,'ro')\n",
    "pl.plot([0,0.4],[0,0.4], 'g-')\n",
    "pl.xlabel('predicted')\n",
    "pl.ylabel('real')\n",
    "pl.show()"
   ]
  },
  {
   "cell_type": "markdown",
   "metadata": {},
   "source": [
    "## Elastic-Net Regression using 10-fold cross validation"
   ]
  },
  {
   "cell_type": "code",
   "execution_count": 125,
   "metadata": {
    "collapsed": true
   },
   "outputs": [],
   "source": [
    "# Now let's compute RMSE using 10-fold x-validation\n",
    "kf = KFold(n_splits=10, shuffle=False, random_state=None)\n",
    "xval_err = 0\n",
    "for train_index, test_index in kf.split(x):\n",
    "    x_train, x_test = x[train_index], x[test_index]\n",
    "    y_train, y_test = y[train_index], y[test_index]\n",
    "    \n",
    "    e_net.fit(x_train, y_train)\n",
    "    p = e_net.predict(x_test)\n",
    "    e = p-y_test\n",
    "    xval_err += np.dot(e,e)\n",
    "    \n",
    "rmse_10cv_corr = np.sqrt(xval_err/len(x))"
   ]
  },
  {
   "cell_type": "code",
   "execution_count": 126,
   "metadata": {},
   "outputs": [
    {
     "name": "stdout",
     "output_type": "stream",
     "text": [
      "Method: Elastic-Net Regression\n",
      "R2 score on training: -0.029499\n",
      "RMSE on training: 0.033774\n",
      "RMSE on 10-fold CV: 0.045936\n"
     ]
    }
   ],
   "source": [
    "method_name = 'Elastic-Net Regression'\n",
    "print('Method: %s' %method_name)\n",
    "print('R2 score on training: %.6f'  %r2score_train_corr)\n",
    "print('RMSE on training: %.6f'  %rmse_train_corr)\n",
    "print('RMSE on 10-fold CV: %.6f'  %rmse_10cv_corr)"
   ]
  }
 ],
 "metadata": {
  "kernelspec": {
   "display_name": "Python 3",
   "language": "python",
   "name": "python3"
  },
  "language_info": {
   "codemirror_mode": {
    "name": "ipython",
    "version": 3
   },
   "file_extension": ".py",
   "mimetype": "text/x-python",
   "name": "python",
   "nbconvert_exporter": "python",
   "pygments_lexer": "ipython3",
   "version": "3.6.3"
  }
 },
 "nbformat": 4,
 "nbformat_minor": 2
}
