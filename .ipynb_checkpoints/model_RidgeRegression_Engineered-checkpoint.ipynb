{
 "cells": [
  {
   "cell_type": "code",
   "execution_count": 1,
   "metadata": {
    "collapsed": true
   },
   "outputs": [],
   "source": [
    "from sklearn.model_selection import KFold, train_test_split\n",
    "from sklearn.metrics import r2_score, mean_squared_error\n",
    "from sklearn.linear_model import Ridge\n",
    "import numpy as np\n",
    "import pandas as pd\n",
    "import pylab as pl"
   ]
  },
  {
   "cell_type": "code",
   "execution_count": 2,
   "metadata": {
    "collapsed": true
   },
   "outputs": [],
   "source": [
    "WINDOW = 1"
   ]
  },
  {
   "cell_type": "markdown",
   "metadata": {},
   "source": [
    "# Using All Weather Variables - Redundant"
   ]
  },
  {
   "cell_type": "code",
   "execution_count": 3,
   "metadata": {},
   "outputs": [
    {
     "data": {
      "text/html": [
       "<div>\n",
       "<style>\n",
       "    .dataframe thead tr:only-child th {\n",
       "        text-align: right;\n",
       "    }\n",
       "\n",
       "    .dataframe thead th {\n",
       "        text-align: left;\n",
       "    }\n",
       "\n",
       "    .dataframe tbody tr th {\n",
       "        vertical-align: top;\n",
       "    }\n",
       "</style>\n",
       "<table border=\"1\" class=\"dataframe\">\n",
       "  <thead>\n",
       "    <tr style=\"text-align: right;\">\n",
       "      <th></th>\n",
       "      <th>tempC</th>\n",
       "      <th>windspeedKmph</th>\n",
       "      <th>cond</th>\n",
       "      <th>humidity</th>\n",
       "      <th>visibility</th>\n",
       "      <th>pressure</th>\n",
       "      <th>cloudcover</th>\n",
       "      <th>dewPointC</th>\n",
       "      <th>windGustKmph</th>\n",
       "      <th>tempC_Emean</th>\n",
       "      <th>...</th>\n",
       "      <th>cloudcover_Emax</th>\n",
       "      <th>cloudcover_Esum</th>\n",
       "      <th>dewPointC_Emean</th>\n",
       "      <th>dewPointC_Emin</th>\n",
       "      <th>dewPointC_Emax</th>\n",
       "      <th>dewPointC_Esum</th>\n",
       "      <th>windGustKmph_Emean</th>\n",
       "      <th>windGustKmph_Emin</th>\n",
       "      <th>windGustKmph_Emax</th>\n",
       "      <th>windGustKmph_Esum</th>\n",
       "    </tr>\n",
       "  </thead>\n",
       "  <tbody>\n",
       "    <tr>\n",
       "      <th>0</th>\n",
       "      <td>0.232552</td>\n",
       "      <td>0.350260</td>\n",
       "      <td>0.565789</td>\n",
       "      <td>0.810009</td>\n",
       "      <td>0.968750</td>\n",
       "      <td>0.775503</td>\n",
       "      <td>0.333906</td>\n",
       "      <td>0.569311</td>\n",
       "      <td>0.285807</td>\n",
       "      <td>0.232552</td>\n",
       "      <td>...</td>\n",
       "      <td>0.333906</td>\n",
       "      <td>0.333906</td>\n",
       "      <td>0.569311</td>\n",
       "      <td>0.569311</td>\n",
       "      <td>0.569311</td>\n",
       "      <td>0.569311</td>\n",
       "      <td>0.285807</td>\n",
       "      <td>0.285807</td>\n",
       "      <td>0.285807</td>\n",
       "      <td>0.285807</td>\n",
       "    </tr>\n",
       "    <tr>\n",
       "      <th>1</th>\n",
       "      <td>0.231250</td>\n",
       "      <td>0.441406</td>\n",
       "      <td>0.585526</td>\n",
       "      <td>0.765097</td>\n",
       "      <td>1.000000</td>\n",
       "      <td>0.848240</td>\n",
       "      <td>0.308802</td>\n",
       "      <td>0.504407</td>\n",
       "      <td>0.334925</td>\n",
       "      <td>0.231901</td>\n",
       "      <td>...</td>\n",
       "      <td>0.333906</td>\n",
       "      <td>0.642708</td>\n",
       "      <td>0.536859</td>\n",
       "      <td>0.504407</td>\n",
       "      <td>0.569311</td>\n",
       "      <td>1.073718</td>\n",
       "      <td>0.310366</td>\n",
       "      <td>0.285807</td>\n",
       "      <td>0.334925</td>\n",
       "      <td>0.620732</td>\n",
       "    </tr>\n",
       "    <tr>\n",
       "      <th>2</th>\n",
       "      <td>0.241667</td>\n",
       "      <td>0.305398</td>\n",
       "      <td>0.631579</td>\n",
       "      <td>0.808877</td>\n",
       "      <td>1.000000</td>\n",
       "      <td>0.826509</td>\n",
       "      <td>0.484427</td>\n",
       "      <td>0.570513</td>\n",
       "      <td>0.227720</td>\n",
       "      <td>0.235156</td>\n",
       "      <td>...</td>\n",
       "      <td>0.484427</td>\n",
       "      <td>1.127135</td>\n",
       "      <td>0.548077</td>\n",
       "      <td>0.504407</td>\n",
       "      <td>0.570513</td>\n",
       "      <td>1.644231</td>\n",
       "      <td>0.282817</td>\n",
       "      <td>0.227720</td>\n",
       "      <td>0.334925</td>\n",
       "      <td>0.848452</td>\n",
       "    </tr>\n",
       "    <tr>\n",
       "      <th>3</th>\n",
       "      <td>0.278385</td>\n",
       "      <td>0.205374</td>\n",
       "      <td>0.580044</td>\n",
       "      <td>0.838240</td>\n",
       "      <td>1.000000</td>\n",
       "      <td>0.762392</td>\n",
       "      <td>0.418542</td>\n",
       "      <td>0.612179</td>\n",
       "      <td>0.173394</td>\n",
       "      <td>0.245964</td>\n",
       "      <td>...</td>\n",
       "      <td>0.484427</td>\n",
       "      <td>1.545677</td>\n",
       "      <td>0.564103</td>\n",
       "      <td>0.504407</td>\n",
       "      <td>0.612179</td>\n",
       "      <td>2.256410</td>\n",
       "      <td>0.255462</td>\n",
       "      <td>0.173394</td>\n",
       "      <td>0.334925</td>\n",
       "      <td>1.021846</td>\n",
       "    </tr>\n",
       "    <tr>\n",
       "      <th>4</th>\n",
       "      <td>0.323698</td>\n",
       "      <td>0.177083</td>\n",
       "      <td>0.399123</td>\n",
       "      <td>0.842995</td>\n",
       "      <td>0.848307</td>\n",
       "      <td>0.742816</td>\n",
       "      <td>0.361146</td>\n",
       "      <td>0.685897</td>\n",
       "      <td>0.150246</td>\n",
       "      <td>0.261510</td>\n",
       "      <td>...</td>\n",
       "      <td>0.484427</td>\n",
       "      <td>1.906823</td>\n",
       "      <td>0.588462</td>\n",
       "      <td>0.504407</td>\n",
       "      <td>0.685897</td>\n",
       "      <td>2.942308</td>\n",
       "      <td>0.234418</td>\n",
       "      <td>0.150246</td>\n",
       "      <td>0.334925</td>\n",
       "      <td>1.172092</td>\n",
       "    </tr>\n",
       "  </tbody>\n",
       "</table>\n",
       "<p>5 rows × 45 columns</p>\n",
       "</div>"
      ],
      "text/plain": [
       "      tempC  windspeedKmph      cond  humidity  visibility  pressure  \\\n",
       "0  0.232552       0.350260  0.565789  0.810009    0.968750  0.775503   \n",
       "1  0.231250       0.441406  0.585526  0.765097    1.000000  0.848240   \n",
       "2  0.241667       0.305398  0.631579  0.808877    1.000000  0.826509   \n",
       "3  0.278385       0.205374  0.580044  0.838240    1.000000  0.762392   \n",
       "4  0.323698       0.177083  0.399123  0.842995    0.848307  0.742816   \n",
       "\n",
       "   cloudcover  dewPointC  windGustKmph  tempC_Emean        ...          \\\n",
       "0    0.333906   0.569311      0.285807     0.232552        ...           \n",
       "1    0.308802   0.504407      0.334925     0.231901        ...           \n",
       "2    0.484427   0.570513      0.227720     0.235156        ...           \n",
       "3    0.418542   0.612179      0.173394     0.245964        ...           \n",
       "4    0.361146   0.685897      0.150246     0.261510        ...           \n",
       "\n",
       "   cloudcover_Emax  cloudcover_Esum  dewPointC_Emean  dewPointC_Emin  \\\n",
       "0         0.333906         0.333906         0.569311        0.569311   \n",
       "1         0.333906         0.642708         0.536859        0.504407   \n",
       "2         0.484427         1.127135         0.548077        0.504407   \n",
       "3         0.484427         1.545677         0.564103        0.504407   \n",
       "4         0.484427         1.906823         0.588462        0.504407   \n",
       "\n",
       "   dewPointC_Emax  dewPointC_Esum  windGustKmph_Emean  windGustKmph_Emin  \\\n",
       "0        0.569311        0.569311            0.285807           0.285807   \n",
       "1        0.569311        1.073718            0.310366           0.285807   \n",
       "2        0.570513        1.644231            0.282817           0.227720   \n",
       "3        0.612179        2.256410            0.255462           0.173394   \n",
       "4        0.685897        2.942308            0.234418           0.150246   \n",
       "\n",
       "   windGustKmph_Emax  windGustKmph_Esum  \n",
       "0           0.285807           0.285807  \n",
       "1           0.334925           0.620732  \n",
       "2           0.334925           0.848452  \n",
       "3           0.334925           1.021846  \n",
       "4           0.334925           1.172092  \n",
       "\n",
       "[5 rows x 45 columns]"
      ]
     },
     "execution_count": 3,
     "metadata": {},
     "output_type": "execute_result"
    }
   ],
   "source": [
    "FILENAME = \"engineered_worldweatheronline_normalized_manila_2015_1day\"\n",
    "weather_dataset = pd.read_csv(\"windows_\" + FILENAME + \"/\" + FILENAME + \"_win\" + str(WINDOW) + \".csv\", skipinitialspace=True)\n",
    "precip = weather_dataset.precipMM\n",
    "weather_dataset = weather_dataset.drop(weather_dataset.columns[0], axis=1)\n",
    "\n",
    "cols_to_remove = []\n",
    "# For Window 1 LANG\n",
    "temp = list(range(12, 16))\n",
    "windspd = list(range(16, 20))\n",
    "cond = list(range(20, 24))\n",
    "hum = list(range(24, 28))\n",
    "vis = list(range(28, 32))\n",
    "pres = list(range(32, 36))\n",
    "cloud = list(range(36, 40))\n",
    "heatindex = list(range(40, 44))\n",
    "dewpoint = list(range(44, 48))\n",
    "windchill = list(range(48, 52))\n",
    "windgust = list(range(52, 56))\n",
    "feelslike = list(range(56, 60))\n",
    "\n",
    "\n",
    "# For Window 2 and above\n",
    "if WINDOW >= 2:\n",
    "    temp = list(range(12, 15))\n",
    "    windspd = list(range(15, 18))\n",
    "    cond = list(range(18, 21))\n",
    "    hum = list(range(21, 24))\n",
    "    vis = list(range(24, 27))\n",
    "    pres = list(range(27, 30))\n",
    "    cloud = list(range(30, 33))\n",
    "    heatindex = list(range(33, 36))\n",
    "    dewpoint = list(range(36, 39))\n",
    "    windchill = list(range(39, 42))\n",
    "    windgust = list(range(42, 45))\n",
    "    feelslike = list(range(45, 48))\n",
    "\n",
    "cols_to_remove = [heatindex + windchill + feelslike]\n",
    "#cols_to_remove = [temp  + windspd + cond + hum + vis + pres + cloud + heatindex + dewpoint + windchill + windgust + feelslike]\n",
    "w = weather_dataset.drop(weather_dataset.columns[cols_to_remove], axis=1, inplace = False)\n",
    "\n",
    "\n",
    "#Original Features\n",
    "##cols_to_remove = [0, 1, 2, 3, 4, 5, 6, 7, 8, 9, 10, 11]\n",
    "cols_to_remove = [7, 9, 11]\n",
    "#cols_to_remove = [0, 2, 4, 5, 7, 8, 9, 11]\n",
    "\n",
    "w = w.drop(w.columns[cols_to_remove], axis=1, inplace = False)\n",
    "weather_dataset = w\n",
    "weather_dataset.head()\n"
   ]
  },
  {
   "cell_type": "code",
   "execution_count": 4,
   "metadata": {
    "collapsed": true
   },
   "outputs": [],
   "source": [
    "# In order to do multiple regression we need to add a column of 1s for x0\n",
    "x = weather_dataset.values.tolist()\n",
    "x = np.array([np.concatenate((v,[1])) for v in x])\n",
    "\n",
    "# independent variable\n",
    "y = precip"
   ]
  },
  {
   "cell_type": "markdown",
   "metadata": {},
   "source": [
    "## Ridge Regression using train_test_split"
   ]
  },
  {
   "cell_type": "code",
   "execution_count": 5,
   "metadata": {},
   "outputs": [
    {
     "data": {
      "text/plain": [
       "Ridge(alpha=-0.2, copy_X=True, fit_intercept=True, max_iter=None,\n",
       "   normalize=False, random_state=None, solver='auto', tol=0.001)"
      ]
     },
     "execution_count": 5,
     "metadata": {},
     "output_type": "execute_result"
    }
   ],
   "source": [
    "# Create linear regression object with a ridge coefficient 0.5\n",
    "ridge = Ridge(fit_intercept=True, alpha=-0.2)\n",
    "\n",
    "X_train, X_test, Y_train, Y_test = train_test_split(x, y, test_size=0.33, shuffle=False)\n",
    "# Train the model using the training set\n",
    "ridge.fit(X_train,Y_train)\n",
    "\n",
    "# Train the model using the training sets\n",
    "ridge.fit(X_train,Y_train)"
   ]
  },
  {
   "cell_type": "code",
   "execution_count": 6,
   "metadata": {},
   "outputs": [
    {
     "name": "stdout",
     "output_type": "stream",
     "text": [
      "R2 score -15.5598432158\n",
      "RMSE 0.269304859361\n"
     ]
    }
   ],
   "source": [
    "p = ridge.predict(X_test)\n",
    "\n",
    "# Compute RMSE and r2_score on training data\n",
    "r2score_train = r2_score(Y_test, p)\n",
    "rmse_train = np.sqrt(mean_squared_error(Y_test, p))\n",
    "\n",
    "print(\"R2 score\", r2score_train)\n",
    "print(\"RMSE\", rmse_train)"
   ]
  },
  {
   "cell_type": "code",
   "execution_count": 7,
   "metadata": {},
   "outputs": [
    {
     "name": "stdout",
     "output_type": "stream",
     "text": [
      "Regression Coefficients: \n",
      " [ 0.09058409  0.16549879  0.05543712 -0.09204713 -0.30717181 -0.13511032\n",
      "  0.04853249  0.03910117  0.11752618  0.11118786 -0.00635423  0.21720186\n",
      " -0.05111785 -0.20913233 -0.27656501  0.02133019 -0.14482702 -0.09120731\n",
      " -0.46274206  0.04269692  0.01198943 -0.01262268  0.13259197  0.02901704\n",
      " -0.06662166 -0.07734869 -0.31164292  0.01541975  0.07610019 -0.02801818\n",
      "  0.4745091   0.1140988  -0.0465486   0.00288681  0.06101164 -0.48506317\n",
      "  0.01020376  0.08185676 -0.02464899  0.34645399  0.01586901 -0.15545794\n",
      " -0.21219823 -0.08646327  0.2138611  -0.        ]\n"
     ]
    }
   ],
   "source": [
    "# We can view the regression coefficients\n",
    "print( 'Regression Coefficients: \\n', ridge.coef_)"
   ]
  },
  {
   "cell_type": "code",
   "execution_count": 8,
   "metadata": {
    "scrolled": true
   },
   "outputs": [
    {
     "data": {
      "image/png": "[encoded data removed]",
      "text/plain": [
       "<matplotlib.figure.Figure at 0x214937abd30>"
      ]
     },
     "metadata": {},
     "output_type": "display_data"
    }
   ],
   "source": [
    "# Plot outputs\n",
    "%matplotlib inline\n",
    "pl.plot(p, Y_test,'ro')\n",
    "pl.plot([0,0.4],[0,0.4], 'g-')\n",
    "pl.xlabel('predicted')\n",
    "pl.ylabel('real')\n",
    "pl.show()\n",
    "\n",
    "# pl.savefig('wwo_model_results/ridge_all_scatterplot.png')"
   ]
  },
  {
   "cell_type": "code",
   "execution_count": 9,
   "metadata": {},
   "outputs": [
    {
     "data": {
      "image/png": "[encoded data removed]",
      "text/plain": [
       "<matplotlib.figure.Figure at 0x2149396b128>"
      ]
     },
     "metadata": {},
     "output_type": "display_data"
    }
   ],
   "source": [
    "# Plot outputs\n",
    "%matplotlib inline\n",
    "pl.plot(Y_test.index, p, label='predicted')\n",
    "pl.plot(Y_test.index, Y_test, label='real')\n",
    "pl.ylabel('precip')\n",
    "pl.xlabel('date')\n",
    "pl.legend()\n",
    "pl.show()\n",
    "\n",
    "# pl.savefig('wwo_model_results/ridge_all_linegraph.png')"
   ]
  },
  {
   "cell_type": "markdown",
   "metadata": {},
   "source": [
    "## Ridge Regression using 10-fold cross validation"
   ]
  },
  {
   "cell_type": "code",
   "execution_count": 10,
   "metadata": {
    "collapsed": true
   },
   "outputs": [],
   "source": [
    "# Now let's compute RMSE using 10-fold x-validation\n",
    "kf = KFold(n_splits=10, shuffle=False, random_state=None)\n",
    "xval_err = 0\n",
    "for train_index, test_index in kf.split(x):\n",
    "    x_train, x_test = x[train_index], x[test_index]\n",
    "    y_train, y_test = y[train_index], y[test_index]\n",
    "    \n",
    "    ridge.fit(x_train, y_train)\n",
    "    p = ridge.predict(x_test)\n",
    "    e = p-y_test\n",
    "    xval_err += np.dot(e,e)\n",
    "    \n",
    "rmse_10cv = np.sqrt(xval_err/len(x))"
   ]
  },
  {
   "cell_type": "code",
   "execution_count": 11,
   "metadata": {},
   "outputs": [
    {
     "name": "stdout",
     "output_type": "stream",
     "text": [
      "Method: Ridge Regression\n",
      "R2 score on training: -15.559843\n",
      "RMSE on training: 0.269305\n",
      "RMSE on 10-fold CV: 0.802846\n"
     ]
    }
   ],
   "source": [
    "method_name = 'Ridge Regression'\n",
    "print('Method: %s' %method_name)\n",
    "print('R2 score on training: %.6f'  %r2score_train)\n",
    "print('RMSE on training: %.6f'  %rmse_train)\n",
    "print('RMSE on 10-fold CV: %.6f'  %rmse_10cv)"
   ]
  },
  {
   "cell_type": "markdown",
   "metadata": {},
   "source": [
    "## Play with alpha"
   ]
  },
  {
   "cell_type": "code",
   "execution_count": 12,
   "metadata": {
    "scrolled": false
   },
   "outputs": [
    {
     "name": "stdout",
     "output_type": "stream",
     "text": [
      "Ridge Regression\n",
      "alpha\t R2SCORE_train\t RMSE_train\t RMSE_10cv\n",
      "\n",
      "     alpha  r2score_train\n",
      "1  -0.9405      -5.823615\n",
      "3  -0.8415      -9.810335\n",
      "4  -0.7920      -9.904068\n",
      "11 -0.4455      -8.315277\n",
      "19 -0.0495      -1.164523\n"
     ]
    },
    {
     "data": {
      "image/png": "[encoded data removed]",
      "text/plain": [
       "<matplotlib.figure.Figure at 0x21493804d68>"
      ]
     },
     "metadata": {},
     "output_type": "display_data"
    },
    {
     "data": {
      "text/plain": [
       "<matplotlib.figure.Figure at 0x21493ab2668>"
      ]
     },
     "metadata": {},
     "output_type": "display_data"
    }
   ],
   "source": [
    "print('Ridge Regression')\n",
    "print('alpha\\t R2SCORE_train\\t RMSE_train\\t RMSE_10cv\\n')\n",
    "alpha = np.linspace(-0.99,-0.0,20,endpoint=False)\n",
    "\n",
    "t_alpha = []\n",
    "\n",
    "for a in alpha:\n",
    "    \n",
    "    # Create linear regression object with a ridge coefficient 0.5\n",
    "    ridge = Ridge(fit_intercept=True, alpha=a)\n",
    "\n",
    "    X_train, X_test, Y_train, Y_test = train_test_split(x, y, test_size=0.33, shuffle=False)\n",
    "\n",
    "    # Train the model using the training sets\n",
    "    ridge.fit(X_train,Y_train)\n",
    "    \n",
    "    p = ridge.predict(X_test)\n",
    "\n",
    "    # Compute RMSE and r2_score on training data\n",
    "    r2score_train = r2_score(Y_test, p)\n",
    "    rmse_train = np.sqrt(mean_squared_error(Y_test, p))\n",
    "    \n",
    "    # Now let's compute RMSE using 10-fold x-validation\n",
    "    kf = KFold(n_splits=10, shuffle=False, random_state=None)\n",
    "    xval_err = 0\n",
    "    for train_index, test_index in kf.split(x):\n",
    "        x_train, x_test = x[train_index], x[test_index]\n",
    "        y_train, y_test = y[train_index], y[test_index]\n",
    "\n",
    "        ridge.fit(x_train, y_train)\n",
    "        p = ridge.predict(x_test)\n",
    "        e = p-y_test\n",
    "        xval_err += np.dot(e,e)\n",
    "\n",
    "    rmse_10cv = np.sqrt(xval_err/len(x))\n",
    "    \n",
    "#     print('{:.3f}\\t {:.6f}\\t\\t {:.6f}\\t\\t {:.6f}'.format(a,r2score_train,rmse_train,rmse_10cv))\n",
    "    \n",
    "    row = [a, r2score_train]\n",
    "    t_alpha.append(row)\n",
    "\n",
    "cols = ['alpha', 'r2score_train']\n",
    "t_alpha = pd.DataFrame(t_alpha, columns=cols)\n",
    "\n",
    "t_alpha = t_alpha[t_alpha.r2score_train > -10]\n",
    "print(t_alpha[t_alpha.r2score_train > -10])\n",
    "\n",
    "# Plot outputs\n",
    "%matplotlib inline\n",
    "pl.plot(t_alpha.alpha, t_alpha.r2score_train)\n",
    "pl.ylabel('r2_score')\n",
    "pl.xlabel('alpha')\n",
    "pl.legend()\n",
    "pl.show()\n",
    "\n",
    "pl.savefig('wwo_model_results/ridge_all.png')"
   ]
  },
  {
   "cell_type": "markdown",
   "metadata": {},
   "source": [
    "# Using Correlated Weather Variables"
   ]
  },
  {
   "cell_type": "code",
   "execution_count": 13,
   "metadata": {
    "scrolled": true
   },
   "outputs": [
    {
     "data": {
      "text/html": [
       "<div>\n",
       "<style>\n",
       "    .dataframe thead tr:only-child th {\n",
       "        text-align: right;\n",
       "    }\n",
       "\n",
       "    .dataframe thead th {\n",
       "        text-align: left;\n",
       "    }\n",
       "\n",
       "    .dataframe tbody tr th {\n",
       "        vertical-align: top;\n",
       "    }\n",
       "</style>\n",
       "<table border=\"1\" class=\"dataframe\">\n",
       "  <thead>\n",
       "    <tr style=\"text-align: right;\">\n",
       "      <th></th>\n",
       "      <th>cond</th>\n",
       "      <th>humidity</th>\n",
       "      <th>cloudcover</th>\n",
       "      <th>dewPointC</th>\n",
       "      <th>cond_Emean</th>\n",
       "      <th>cond_Emin</th>\n",
       "      <th>cond_Emax</th>\n",
       "      <th>cond_Esum</th>\n",
       "      <th>humidity_Emean</th>\n",
       "      <th>humidity_Emin</th>\n",
       "      <th>humidity_Emax</th>\n",
       "      <th>humidity_Esum</th>\n",
       "      <th>cloudcover_Emean</th>\n",
       "      <th>cloudcover_Emin</th>\n",
       "      <th>cloudcover_Emax</th>\n",
       "      <th>cloudcover_Esum</th>\n",
       "      <th>dewPointC_Emean</th>\n",
       "      <th>dewPointC_Emin</th>\n",
       "      <th>dewPointC_Emax</th>\n",
       "      <th>dewPointC_Esum</th>\n",
       "    </tr>\n",
       "  </thead>\n",
       "  <tbody>\n",
       "    <tr>\n",
       "      <th>0</th>\n",
       "      <td>0.565789</td>\n",
       "      <td>0.810009</td>\n",
       "      <td>0.333906</td>\n",
       "      <td>0.569311</td>\n",
       "      <td>0.565789</td>\n",
       "      <td>0.565789</td>\n",
       "      <td>0.565789</td>\n",
       "      <td>0.565789</td>\n",
       "      <td>0.810009</td>\n",
       "      <td>0.810009</td>\n",
       "      <td>0.810009</td>\n",
       "      <td>0.810009</td>\n",
       "      <td>0.333906</td>\n",
       "      <td>0.333906</td>\n",
       "      <td>0.333906</td>\n",
       "      <td>0.333906</td>\n",
       "      <td>0.569311</td>\n",
       "      <td>0.569311</td>\n",
       "      <td>0.569311</td>\n",
       "      <td>0.569311</td>\n",
       "    </tr>\n",
       "    <tr>\n",
       "      <th>1</th>\n",
       "      <td>0.585526</td>\n",
       "      <td>0.765097</td>\n",
       "      <td>0.308802</td>\n",
       "      <td>0.504407</td>\n",
       "      <td>0.575658</td>\n",
       "      <td>0.565789</td>\n",
       "      <td>0.585526</td>\n",
       "      <td>1.151316</td>\n",
       "      <td>0.787553</td>\n",
       "      <td>0.765097</td>\n",
       "      <td>0.810009</td>\n",
       "      <td>1.575106</td>\n",
       "      <td>0.321354</td>\n",
       "      <td>0.308802</td>\n",
       "      <td>0.333906</td>\n",
       "      <td>0.642708</td>\n",
       "      <td>0.536859</td>\n",
       "      <td>0.504407</td>\n",
       "      <td>0.569311</td>\n",
       "      <td>1.073718</td>\n",
       "    </tr>\n",
       "    <tr>\n",
       "      <th>2</th>\n",
       "      <td>0.631579</td>\n",
       "      <td>0.808877</td>\n",
       "      <td>0.484427</td>\n",
       "      <td>0.570513</td>\n",
       "      <td>0.594298</td>\n",
       "      <td>0.565789</td>\n",
       "      <td>0.631579</td>\n",
       "      <td>1.782895</td>\n",
       "      <td>0.794661</td>\n",
       "      <td>0.765097</td>\n",
       "      <td>0.810009</td>\n",
       "      <td>2.383982</td>\n",
       "      <td>0.375712</td>\n",
       "      <td>0.308802</td>\n",
       "      <td>0.484427</td>\n",
       "      <td>1.127135</td>\n",
       "      <td>0.548077</td>\n",
       "      <td>0.504407</td>\n",
       "      <td>0.570513</td>\n",
       "      <td>1.644231</td>\n",
       "    </tr>\n",
       "    <tr>\n",
       "      <th>3</th>\n",
       "      <td>0.580044</td>\n",
       "      <td>0.838240</td>\n",
       "      <td>0.418542</td>\n",
       "      <td>0.612179</td>\n",
       "      <td>0.590735</td>\n",
       "      <td>0.565789</td>\n",
       "      <td>0.631579</td>\n",
       "      <td>2.362939</td>\n",
       "      <td>0.805556</td>\n",
       "      <td>0.765097</td>\n",
       "      <td>0.838240</td>\n",
       "      <td>3.222222</td>\n",
       "      <td>0.386419</td>\n",
       "      <td>0.308802</td>\n",
       "      <td>0.484427</td>\n",
       "      <td>1.545677</td>\n",
       "      <td>0.564103</td>\n",
       "      <td>0.504407</td>\n",
       "      <td>0.612179</td>\n",
       "      <td>2.256410</td>\n",
       "    </tr>\n",
       "    <tr>\n",
       "      <th>4</th>\n",
       "      <td>0.399123</td>\n",
       "      <td>0.842995</td>\n",
       "      <td>0.361146</td>\n",
       "      <td>0.685897</td>\n",
       "      <td>0.552412</td>\n",
       "      <td>0.399123</td>\n",
       "      <td>0.631579</td>\n",
       "      <td>2.762061</td>\n",
       "      <td>0.813043</td>\n",
       "      <td>0.765097</td>\n",
       "      <td>0.842995</td>\n",
       "      <td>4.065217</td>\n",
       "      <td>0.381365</td>\n",
       "      <td>0.308802</td>\n",
       "      <td>0.484427</td>\n",
       "      <td>1.906823</td>\n",
       "      <td>0.588462</td>\n",
       "      <td>0.504407</td>\n",
       "      <td>0.685897</td>\n",
       "      <td>2.942308</td>\n",
       "    </tr>\n",
       "  </tbody>\n",
       "</table>\n",
       "</div>"
      ],
      "text/plain": [
       "       cond  humidity  cloudcover  dewPointC  cond_Emean  cond_Emin  \\\n",
       "0  0.565789  0.810009    0.333906   0.569311    0.565789   0.565789   \n",
       "1  0.585526  0.765097    0.308802   0.504407    0.575658   0.565789   \n",
       "2  0.631579  0.808877    0.484427   0.570513    0.594298   0.565789   \n",
       "3  0.580044  0.838240    0.418542   0.612179    0.590735   0.565789   \n",
       "4  0.399123  0.842995    0.361146   0.685897    0.552412   0.399123   \n",
       "\n",
       "   cond_Emax  cond_Esum  humidity_Emean  humidity_Emin  humidity_Emax  \\\n",
       "0   0.565789   0.565789        0.810009       0.810009       0.810009   \n",
       "1   0.585526   1.151316        0.787553       0.765097       0.810009   \n",
       "2   0.631579   1.782895        0.794661       0.765097       0.810009   \n",
       "3   0.631579   2.362939        0.805556       0.765097       0.838240   \n",
       "4   0.631579   2.762061        0.813043       0.765097       0.842995   \n",
       "\n",
       "   humidity_Esum  cloudcover_Emean  cloudcover_Emin  cloudcover_Emax  \\\n",
       "0       0.810009          0.333906         0.333906         0.333906   \n",
       "1       1.575106          0.321354         0.308802         0.333906   \n",
       "2       2.383982          0.375712         0.308802         0.484427   \n",
       "3       3.222222          0.386419         0.308802         0.484427   \n",
       "4       4.065217          0.381365         0.308802         0.484427   \n",
       "\n",
       "   cloudcover_Esum  dewPointC_Emean  dewPointC_Emin  dewPointC_Emax  \\\n",
       "0         0.333906         0.569311        0.569311        0.569311   \n",
       "1         0.642708         0.536859        0.504407        0.569311   \n",
       "2         1.127135         0.548077        0.504407        0.570513   \n",
       "3         1.545677         0.564103        0.504407        0.612179   \n",
       "4         1.906823         0.588462        0.504407        0.685897   \n",
       "\n",
       "   dewPointC_Esum  \n",
       "0        0.569311  \n",
       "1        1.073718  \n",
       "2        1.644231  \n",
       "3        2.256410  \n",
       "4        2.942308  "
      ]
     },
     "execution_count": 13,
     "metadata": {},
     "output_type": "execute_result"
    }
   ],
   "source": [
    "# Remove unused columns and reorder \n",
    "FILENAME = \"engineered_worldweatheronline_normalized_manila_2015_1day\"\n",
    "weather_dataset = pd.read_csv(\"windows_\" + FILENAME + \"/\" + FILENAME + \"_win\" + str(WINDOW) + \".csv\", skipinitialspace=True)\n",
    "weather_dataset = weather_dataset.drop(weather_dataset.columns[0], axis=1)\n",
    "\n",
    "cols_to_remove = []\n",
    "# For Window 1 LANG\n",
    "temp = list(range(12, 16))\n",
    "windspd = list(range(16, 20))\n",
    "cond = list(range(20, 24))\n",
    "hum = list(range(24, 28))\n",
    "vis = list(range(28, 32))\n",
    "pres = list(range(32, 36))\n",
    "cloud = list(range(36, 40))\n",
    "heatindex = list(range(40, 44))\n",
    "dewpoint = list(range(44, 48))\n",
    "windchill = list(range(48, 52))\n",
    "windgust = list(range(52, 56))\n",
    "feelslike = list(range(56, 60))\n",
    "\n",
    "\n",
    "# For Window 2 and above\n",
    "if WINDOW >= 2:\n",
    "    temp = list(range(12, 15))\n",
    "    windspd = list(range(15, 18))\n",
    "    cond = list(range(18, 21))\n",
    "    hum = list(range(21, 24))\n",
    "    vis = list(range(24, 27))\n",
    "    pres = list(range(27, 30))\n",
    "    cloud = list(range(30, 33))\n",
    "    heatindex = list(range(33, 36))\n",
    "    dewpoint = list(range(36, 39))\n",
    "    windchill = list(range(39, 42))\n",
    "    windgust = list(range(42, 45))\n",
    "    feelslike = list(range(45, 48))\n",
    "\n",
    "\n",
    "cols_to_remove = [temp  + windspd + vis + pres + heatindex + windchill + windgust + feelslike]\n",
    "# cols_to_remove = [temp  + windspd + cond + hum + vis + pres + cloud + heatindex + dewpoint + windchill + windgust + feelslike]\n",
    "w = weather_dataset.drop(weather_dataset.columns[cols_to_remove], axis=1, inplace = False)\n",
    "\n",
    "\n",
    "#Original Features\n",
    "cols_to_remove = [0, 1, 4, 5, 7, 9, 10, 11]\n",
    "\n",
    "w = w.drop(w.columns[cols_to_remove], axis=1, inplace = False)\n",
    "weather_dataset = w\n",
    "weather_dataset.head()\n"
   ]
  },
  {
   "cell_type": "code",
   "execution_count": 14,
   "metadata": {
    "collapsed": true
   },
   "outputs": [],
   "source": [
    "# In order to do multiple regression we need to add a column of 1s for x0\n",
    "x = weather_dataset.loc[:, weather_dataset.columns != 'precipMM'].values.tolist()\n",
    "x = np.array([np.concatenate((v,[1])) for v in x])\n",
    "\n",
    "# independent variable\n",
    "y = precip"
   ]
  },
  {
   "cell_type": "markdown",
   "metadata": {},
   "source": [
    "## Ridge Regression using train_test_split"
   ]
  },
  {
   "cell_type": "code",
   "execution_count": 15,
   "metadata": {},
   "outputs": [
    {
     "data": {
      "text/plain": [
       "Ridge(alpha=-0.7, copy_X=True, fit_intercept=True, max_iter=None,\n",
       "   normalize=False, random_state=None, solver='auto', tol=0.001)"
      ]
     },
     "execution_count": 15,
     "metadata": {},
     "output_type": "execute_result"
    }
   ],
   "source": [
    "# Create ridge regression object with a ridge coefficient 0.5\n",
    "ridge = Ridge(fit_intercept=True, alpha=-0.7)\n",
    "\n",
    "X_train, X_test, Y_train, Y_test = train_test_split(x, y, test_size=0.33, shuffle=False)\n",
    "\n",
    "# Train the model using the training set\n",
    "ridge.fit(X_train,Y_train)"
   ]
  },
  {
   "cell_type": "code",
   "execution_count": 16,
   "metadata": {},
   "outputs": [
    {
     "name": "stdout",
     "output_type": "stream",
     "text": [
      "R2 score -0.69695354662\n",
      "RMSE 0.0862086921387\n"
     ]
    }
   ],
   "source": [
    "p = ridge.predict(X_test)\n",
    "\n",
    "# Compute RMSE and r2_score on training data\n",
    "r2score_train_corr = r2_score(Y_test, p)\n",
    "rmse_train_corr = np.sqrt(mean_squared_error(Y_test, p))\n",
    "\n",
    "print(\"R2 score\", r2score_train_corr)\n",
    "print(\"RMSE\", rmse_train_corr)"
   ]
  },
  {
   "cell_type": "code",
   "execution_count": 17,
   "metadata": {},
   "outputs": [
    {
     "name": "stdout",
     "output_type": "stream",
     "text": [
      "Regression Coefficients: \n",
      " [-0.15655689 -0.32249685  0.29275904 -0.09230484  0.0529746   0.15629162\n",
      " -0.19749741  0.04334169  0.03761195  0.04594448 -0.09708863 -0.02158904\n",
      " -0.00732355  0.3691722  -0.50375015  0.03133272  0.03566976  0.32828997\n",
      " -0.16706063 -0.02506646 -0.        ]\n"
     ]
    }
   ],
   "source": [
    "# We can view the regression coefficients\n",
    "print( 'Regression Coefficients: \\n', ridge.coef_)"
   ]
  },
  {
   "cell_type": "code",
   "execution_count": 18,
   "metadata": {},
   "outputs": [
    {
     "data": {
      "image/png": "[encoded data removed]",
      "text/plain": [
       "<matplotlib.figure.Figure at 0x2149397b4a8>"
      ]
     },
     "metadata": {},
     "output_type": "display_data"
    }
   ],
   "source": [
    "# Plot outputs\n",
    "%matplotlib inline\n",
    "pl.plot(p, Y_test,'ro')\n",
    "pl.plot([0,0.4],[0,0.4], 'g-')\n",
    "pl.xlabel('predicted')\n",
    "pl.ylabel('real')\n",
    "pl.show()"
   ]
  },
  {
   "cell_type": "code",
   "execution_count": 19,
   "metadata": {},
   "outputs": [
    {
     "data": {
      "image/png": "[encoded data removed]",
      "text/plain": [
       "<matplotlib.figure.Figure at 0x2148fd6f588>"
      ]
     },
     "metadata": {},
     "output_type": "display_data"
    }
   ],
   "source": [
    "# Plot outputs\n",
    "%matplotlib inline\n",
    "pl.plot(Y_test.index, p, label='predicted')\n",
    "pl.plot(Y_test.index, Y_test, label='real')\n",
    "pl.ylabel('precip')\n",
    "pl.xlabel('date')\n",
    "pl.legend()\n",
    "pl.show()"
   ]
  },
  {
   "cell_type": "markdown",
   "metadata": {},
   "source": [
    "## Ridge Regression using 10-fold cross validation"
   ]
  },
  {
   "cell_type": "code",
   "execution_count": 20,
   "metadata": {
    "collapsed": true
   },
   "outputs": [],
   "source": [
    "# Now let's compute RMSE using 10-fold x-validation\n",
    "kf = KFold(n_splits=10, shuffle=False, random_state=None)\n",
    "xval_err = 0\n",
    "for train_index, test_index in kf.split(x):\n",
    "    x_train, x_test = x[train_index], x[test_index]\n",
    "    y_train, y_test = y[train_index], y[test_index]\n",
    "    \n",
    "    ridge.fit(x_train, y_train)\n",
    "    p = ridge.predict(x_test)\n",
    "    e = p-y_test\n",
    "    xval_err += np.dot(e,e)\n",
    "    \n",
    "rmse_10cv_corr = np.sqrt(xval_err/len(x))"
   ]
  },
  {
   "cell_type": "code",
   "execution_count": 21,
   "metadata": {},
   "outputs": [
    {
     "name": "stdout",
     "output_type": "stream",
     "text": [
      "Method: Ridge Regression\n",
      "R2 score on training: -0.696954\n",
      "RMSE on training: 0.086209\n",
      "RMSE on 10-fold CV: 0.104181\n"
     ]
    }
   ],
   "source": [
    "method_name = 'Ridge Regression'\n",
    "print('Method: %s' %method_name)\n",
    "print('R2 score on training: %.6f'  %r2score_train_corr)\n",
    "print('RMSE on training: %.6f'  %rmse_train_corr)\n",
    "print('RMSE on 10-fold CV: %.6f'  %rmse_10cv_corr)"
   ]
  },
  {
   "cell_type": "markdown",
   "metadata": {},
   "source": [
    "## Play with alpha"
   ]
  },
  {
   "cell_type": "code",
   "execution_count": 22,
   "metadata": {},
   "outputs": [
    {
     "name": "stdout",
     "output_type": "stream",
     "text": [
      "Ridge Regression\n",
      "alpha\t R2SCORE_train\t RMSE_train\t RMSE_10cv\n",
      "\n",
      "-0.990\t -0.761186\t\t 0.087825\t\t 0.073776\n",
      "-0.941\t -0.708878\t\t 0.086511\t\t 0.106065\n",
      "-0.891\t -0.665713\t\t 0.085411\t\t 0.422421\n",
      "-0.841\t -0.627288\t\t 0.084421\t\t 0.612107\n",
      "-0.792\t -0.592308\t\t 0.083508\t\t 0.209641\n",
      "-0.742\t -0.578796\t\t 0.083153\t\t 0.130298\n",
      "-0.693\t -0.757702\t\t 0.087738\t\t 0.104506\n",
      "-0.643\t -3.573589\t\t 0.141529\t\t 0.146361\n",
      "-0.594\t -8750.132677\t\t 6.190821\t\t 0.300576\n",
      "-0.544\t -17.232493\t\t 0.282578\t\t 1.295541\n",
      "-0.495\t -10.219657\t\t 0.221669\t\t 0.457234\n",
      "-0.446\t -15.781360\t\t 0.271100\t\t 0.194825\n",
      "-0.396\t -42.494807\t\t 0.436450\t\t 0.190668\n",
      "-0.346\t -77.612531\t\t 0.586762\t\t 0.076793\n",
      "-0.297\t -4240.339338\t\t 4.309904\t\t 0.117550\n",
      "-0.247\t -23.216445\t\t 0.325665\t\t 0.053742\n",
      "-0.198\t -4.235300\t\t 0.151421\t\t 0.051402\n",
      "-0.148\t -1.528406\t\t 0.105230\t\t 0.259161\n",
      "-0.099\t 0.332155\t\t 0.054082\t\t 0.530170\n",
      "-0.049\t -0.331082\t\t 0.076352\t\t 0.061122\n",
      "     alpha  r2score_train\n",
      "0  -0.9900      -0.761186\n",
      "1  -0.9405      -0.708878\n",
      "2  -0.8910      -0.665713\n",
      "3  -0.8415      -0.627288\n",
      "4  -0.7920      -0.592308\n",
      "5  -0.7425      -0.578796\n",
      "6  -0.6930      -0.757702\n",
      "7  -0.6435      -3.573589\n",
      "16 -0.1980      -4.235300\n",
      "17 -0.1485      -1.528406\n",
      "18 -0.0990       0.332155\n",
      "19 -0.0495      -0.331082\n"
     ]
    },
    {
     "data": {
      "image/png": "[encoded data removed]",
      "text/plain": [
       "<matplotlib.figure.Figure at 0x21493a97710>"
      ]
     },
     "metadata": {},
     "output_type": "display_data"
    },
    {
     "data": {
      "text/plain": [
       "<matplotlib.figure.Figure at 0x2149464d860>"
      ]
     },
     "metadata": {},
     "output_type": "display_data"
    }
   ],
   "source": [
    "print('Ridge Regression')\n",
    "print('alpha\\t R2SCORE_train\\t RMSE_train\\t RMSE_10cv\\n')\n",
    "alpha = np.linspace(-0.99,-0.0,20,endpoint=False)\n",
    "\n",
    "t_alpha = []\n",
    "\n",
    "for a in alpha:\n",
    "    \n",
    "    # Create linear regression object with a ridge coefficient 0.5\n",
    "    ridge = Ridge(fit_intercept=True, alpha=a)\n",
    "\n",
    "    X_train, X_test, Y_train, Y_test = train_test_split(x, y, test_size=0.33, shuffle=False)\n",
    "\n",
    "    # Train the model using the training sets\n",
    "    ridge.fit(X_train,Y_train)\n",
    "    \n",
    "    p = ridge.predict(X_test)\n",
    "\n",
    "    # Compute RMSE and r2_score on training data\n",
    "    r2score_train = r2_score(Y_test, p)\n",
    "    rmse_train = np.sqrt(mean_squared_error(Y_test, p))\n",
    "    \n",
    "    # Now let's compute RMSE using 10-fold x-validation\n",
    "    kf = KFold(n_splits=10, shuffle=False, random_state=None)\n",
    "    xval_err = 0\n",
    "    for train_index, test_index in kf.split(x):\n",
    "        x_train, x_test = x[train_index], x[test_index]\n",
    "        y_train, y_test = y[train_index], y[test_index]\n",
    "\n",
    "        ridge.fit(x_train, y_train)\n",
    "        p = ridge.predict(x_test)\n",
    "        e = p-y_test\n",
    "        xval_err += np.dot(e,e)\n",
    "\n",
    "    rmse_10cv = np.sqrt(xval_err/len(x))\n",
    "    \n",
    "    print('{:.3f}\\t {:.6f}\\t\\t {:.6f}\\t\\t {:.6f}'.format(a,r2score_train,rmse_train,rmse_10cv))\n",
    "    \n",
    "    row = [a, r2score_train]\n",
    "    t_alpha.append(row)\n",
    "\n",
    "cols = ['alpha', 'r2score_train']\n",
    "t_alpha = pd.DataFrame(t_alpha, columns=cols)\n",
    "\n",
    "t_alpha = t_alpha[t_alpha.r2score_train > -10]\n",
    "print(t_alpha[t_alpha.r2score_train > -10])\n",
    "\n",
    "# Plot outputs\n",
    "%matplotlib inline\n",
    "pl.plot(t_alpha.alpha, t_alpha.r2score_train)\n",
    "pl.ylabel('r2_score')\n",
    "pl.xlabel('alpha')\n",
    "pl.legend()\n",
    "pl.show()\n",
    "\n",
    "pl.savefig('wwo_model_results/ridge_corr_dwpt.png')"
   ]
  },
  {
   "cell_type": "code",
   "execution_count": null,
   "metadata": {
    "collapsed": true
   },
   "outputs": [],
   "source": []
  }
 ],
 "metadata": {
  "kernelspec": {
   "display_name": "Python 3",
   "language": "python",
   "name": "python3"
  },
  "language_info": {
   "codemirror_mode": {
    "name": "ipython",
    "version": 3
   },
   "file_extension": ".py",
   "mimetype": "text/x-python",
   "name": "python",
   "nbconvert_exporter": "python",
   "pygments_lexer": "ipython3",
   "version": "3.6.3"
  }
 },
 "nbformat": 4,
 "nbformat_minor": 2
}
