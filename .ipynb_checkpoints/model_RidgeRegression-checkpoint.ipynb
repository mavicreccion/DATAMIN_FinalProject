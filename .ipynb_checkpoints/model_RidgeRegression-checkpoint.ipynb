{
 "cells": [
  {
   "cell_type": "code",
   "execution_count": 133,
   "metadata": {
    "collapsed": true
   },
   "outputs": [],
   "source": [
    "from sklearn.model_selection import KFold, train_test_split\n",
    "from sklearn.metrics import r2_score, mean_squared_error\n",
    "from sklearn.linear_model import Ridge\n",
    "import numpy as np\n",
    "import pandas as pd\n",
    "import pylab as pl"
   ]
  },
  {
   "cell_type": "code",
   "execution_count": 134,
   "metadata": {
    "collapsed": true
   },
   "outputs": [],
   "source": [
    "weather_dataset1 = pd.read_csv('wwo_normalized_manila\\\\worldweatheronline_normalized_manila_2015_1day.csv', index_col=[0], parse_dates=[0], skipinitialspace=True)\n",
    "weather_dataset2 = pd.read_csv('wwo_normalized_manila\\\\worldweatheronline_normalized_manila_2016_1day.csv', index_col=[0], parse_dates=[0], skipinitialspace=True)\n",
    "weather_dataset3 = pd.read_csv('wwo_normalized_manila\\\\worldweatheronline_normalized_manila_2017_1day.csv', index_col=[0], parse_dates=[0], skipinitialspace=True)\n",
    "weather_dataset = []\n",
    "# weather_dataset.append(weather_dataset1)\n",
    "weather_dataset.append(weather_dataset2)\n",
    "weather_dataset.append(weather_dataset3)\n",
    "weather_dataset = pd.concat(weather_dataset)"
   ]
  },
  {
   "cell_type": "markdown",
   "metadata": {},
   "source": [
    "# Using All Weather Variables"
   ]
  },
  {
   "cell_type": "code",
   "execution_count": 135,
   "metadata": {
    "collapsed": true
   },
   "outputs": [],
   "source": [
    "# Remove unused columns and reorder \n",
    "weather_dataset = weather_dataset[['precipMM', 'tempC', 'windspeedKmph', 'cond', 'humidity', 'visibility', 'pressure', 'cloudcover', 'heatIndexC', 'dewPointC', 'windChillC', 'windGustKmph', 'feelsLikeC']]"
   ]
  },
  {
   "cell_type": "code",
   "execution_count": 136,
   "metadata": {
    "collapsed": true
   },
   "outputs": [],
   "source": [
    "# In order to do multiple regression we need to add a column of 1s for x0\n",
    "x = weather_dataset.loc[:, weather_dataset.columns != 'precipMM'].values.tolist()\n",
    "x = np.array([np.concatenate((v,[1])) for v in x])\n",
    "\n",
    "# independent variable\n",
    "y = weather_dataset['precipMM']"
   ]
  },
  {
   "cell_type": "markdown",
   "metadata": {},
   "source": [
    "## Ridge Regression using train_test_split"
   ]
  },
  {
   "cell_type": "code",
   "execution_count": 137,
   "metadata": {},
   "outputs": [
    {
     "data": {
      "text/plain": [
       "Ridge(alpha=0.5, copy_X=True, fit_intercept=True, max_iter=None,\n",
       "   normalize=False, random_state=None, solver='auto', tol=0.001)"
      ]
     },
     "execution_count": 137,
     "metadata": {},
     "output_type": "execute_result"
    }
   ],
   "source": [
    "# Create linear regression object with a ridge coefficient 0.5\n",
    "ridge = Ridge(fit_intercept=True, alpha=0.5)\n",
    "\n",
    "X_train, X_test, Y_train, Y_test = train_test_split(x, y, test_size=0.50, shuffle=False)\n",
    "# Train the model using the training set\n",
    "ridge.fit(X_train,Y_train)\n",
    "\n",
    "# Train the model using the training sets\n",
    "ridge.fit(X_train,Y_train)"
   ]
  },
  {
   "cell_type": "code",
   "execution_count": 138,
   "metadata": {},
   "outputs": [
    {
     "name": "stdout",
     "output_type": "stream",
     "text": [
      "R2 score -28.4905882566\n",
      "RMSE 0.180761868859\n"
     ]
    }
   ],
   "source": [
    "p = ridge.predict(X_test)\n",
    "\n",
    "# Compute RMSE and r2_score on training data\n",
    "r2score_train = r2_score(Y_test, p)\n",
    "rmse_train = np.sqrt(mean_squared_error(Y_test, p))\n",
    "\n",
    "print(\"R2 score\", r2score_train)\n",
    "print(\"RMSE\", rmse_train)"
   ]
  },
  {
   "cell_type": "code",
   "execution_count": 139,
   "metadata": {},
   "outputs": [
    {
     "name": "stdout",
     "output_type": "stream",
     "text": [
      "Regression Coefficients: \n",
      " [ 0.01884868  0.02912456 -0.01208498  0.02984605 -0.31429375 -0.02536257\n",
      "  0.02383427  0.01766597  0.00893492  0.01836539  0.15546101  0.01815184\n",
      "  0.        ]\n"
     ]
    }
   ],
   "source": [
    "# We can view the regression coefficients\n",
    "print( 'Regression Coefficients: \\n', ridge.coef_)"
   ]
  },
  {
   "cell_type": "code",
   "execution_count": 140,
   "metadata": {},
   "outputs": [
    {
     "data": {
      "image/png": "[encoded data removed]",
      "text/plain": [
       "<matplotlib.figure.Figure at 0x2739665e908>"
      ]
     },
     "metadata": {},
     "output_type": "display_data"
    }
   ],
   "source": [
    "# Plot outputs\n",
    "%matplotlib inline\n",
    "pl.plot(p, Y_test,'ro')\n",
    "pl.plot([0,0.4],[0,0.4], 'g-')\n",
    "pl.xlabel('predicted')\n",
    "pl.ylabel('real')\n",
    "pl.show()"
   ]
  },
  {
   "cell_type": "markdown",
   "metadata": {},
   "source": [
    "## Ridge Regression using 10-fold cross validation"
   ]
  },
  {
   "cell_type": "code",
   "execution_count": 141,
   "metadata": {
    "collapsed": true
   },
   "outputs": [],
   "source": [
    "# Now let's compute RMSE using 10-fold x-validation\n",
    "kf = KFold(n_splits=10, shuffle=False, random_state=None)\n",
    "xval_err = 0\n",
    "for train_index, test_index in kf.split(x):\n",
    "    x_train, x_test = x[train_index], x[test_index]\n",
    "    y_train, y_test = y[train_index], y[test_index]\n",
    "    \n",
    "    ridge.fit(x_train, y_train)\n",
    "    p = ridge.predict(x_test)\n",
    "    e = p-y_test\n",
    "    xval_err += np.dot(e,e)\n",
    "    \n",
    "rmse_10cv = np.sqrt(xval_err/len(x))"
   ]
  },
  {
   "cell_type": "code",
   "execution_count": 142,
   "metadata": {},
   "outputs": [
    {
     "name": "stdout",
     "output_type": "stream",
     "text": [
      "Method: Ridge Regression\n",
      "R2 score on training: -28.490588\n",
      "RMSE on training: 0.180762\n",
      "RMSE on 10-fold CV: 0.030412\n"
     ]
    }
   ],
   "source": [
    "method_name = 'Ridge Regression'\n",
    "print('Method: %s' %method_name)\n",
    "print('R2 score on training: %.6f'  %r2score_train)\n",
    "print('RMSE on training: %.6f'  %rmse_train)\n",
    "print('RMSE on 10-fold CV: %.6f'  %rmse_10cv)"
   ]
  },
  {
   "cell_type": "markdown",
   "metadata": {},
   "source": [
    "# Using Correlated Weather Variables"
   ]
  },
  {
   "cell_type": "code",
   "execution_count": 143,
   "metadata": {
    "collapsed": true,
    "scrolled": true
   },
   "outputs": [],
   "source": [
    "# Remove unused columns and reorder \n",
    "weather_dataset = weather_dataset[['precipMM', 'humidity', 'cloudcover', 'dewPointC']]"
   ]
  },
  {
   "cell_type": "code",
   "execution_count": 144,
   "metadata": {
    "collapsed": true
   },
   "outputs": [],
   "source": [
    "# In order to do multiple regression we need to add a column of 1s for x0\n",
    "x = weather_dataset.loc[:, weather_dataset.columns != 'precipMM'].values.tolist()\n",
    "x = np.array([np.concatenate((v,[1])) for v in x])\n",
    "\n",
    "# independent variable\n",
    "y = weather_dataset['precipMM']"
   ]
  },
  {
   "cell_type": "markdown",
   "metadata": {},
   "source": [
    "## Ridge Regression using train_test_split"
   ]
  },
  {
   "cell_type": "code",
   "execution_count": 145,
   "metadata": {},
   "outputs": [
    {
     "data": {
      "text/plain": [
       "Ridge(alpha=0.5, copy_X=True, fit_intercept=True, max_iter=None,\n",
       "   normalize=False, random_state=None, solver='auto', tol=0.001)"
      ]
     },
     "execution_count": 145,
     "metadata": {},
     "output_type": "execute_result"
    }
   ],
   "source": [
    "# Create ridge regression object with a ridge coefficient 0.5\n",
    "ridge = Ridge(fit_intercept=True, alpha=0.5)\n",
    "\n",
    "X_train, X_test, Y_train, Y_test = train_test_split(x, y, test_size=0.50, shuffle=False)\n",
    "\n",
    "# Train the model using the training set\n",
    "ridge.fit(X_train,Y_train)"
   ]
  },
  {
   "cell_type": "code",
   "execution_count": 146,
   "metadata": {},
   "outputs": [
    {
     "name": "stdout",
     "output_type": "stream",
     "text": [
      "R2 score 0.219408586583\n",
      "RMSE 0.0294087787321\n"
     ]
    }
   ],
   "source": [
    "p = ridge.predict(X_test)\n",
    "\n",
    "# Compute RMSE and r2_score on training data\n",
    "r2score_train_corr = r2_score(Y_test, p)\n",
    "rmse_train_corr = np.sqrt(mean_squared_error(Y_test, p))\n",
    "\n",
    "print(\"R2 score\", r2score_train_corr)\n",
    "print(\"RMSE\", rmse_train_corr)"
   ]
  },
  {
   "cell_type": "code",
   "execution_count": 147,
   "metadata": {},
   "outputs": [
    {
     "name": "stdout",
     "output_type": "stream",
     "text": [
      "Regression Coefficients: \n",
      " [ 0.10813807  0.13057117  0.04742159  0.        ]\n"
     ]
    }
   ],
   "source": [
    "# We can view the regression coefficients\n",
    "print( 'Regression Coefficients: \\n', ridge.coef_)"
   ]
  },
  {
   "cell_type": "code",
   "execution_count": 148,
   "metadata": {},
   "outputs": [
    {
     "data": {
      "image/png": "[encoded data removed]",
      "text/plain": [
       "<matplotlib.figure.Figure at 0x273965ac358>"
      ]
     },
     "metadata": {},
     "output_type": "display_data"
    }
   ],
   "source": [
    "# Plot outputs\n",
    "%matplotlib inline\n",
    "pl.plot(p, Y_test,'ro')\n",
    "pl.plot([0,0.4],[0,0.4], 'g-')\n",
    "pl.xlabel('predicted')\n",
    "pl.ylabel('real')\n",
    "pl.show()"
   ]
  },
  {
   "cell_type": "markdown",
   "metadata": {},
   "source": [
    "## Ridge Regression using 10-fold cross validation"
   ]
  },
  {
   "cell_type": "code",
   "execution_count": 149,
   "metadata": {
    "collapsed": true
   },
   "outputs": [],
   "source": [
    "# Now let's compute RMSE using 10-fold x-validation\n",
    "kf = KFold(n_splits=10, shuffle=False, random_state=None)\n",
    "xval_err = 0\n",
    "for train_index, test_index in kf.split(x):\n",
    "    x_train, x_test = x[train_index], x[test_index]\n",
    "    y_train, y_test = y[train_index], y[test_index]\n",
    "    \n",
    "    ridge.fit(x_train, y_train)\n",
    "    p = ridge.predict(x_test)\n",
    "    e = p-y_test\n",
    "    xval_err += np.dot(e,e)\n",
    "    \n",
    "rmse_10cv_corr = np.sqrt(xval_err/len(x))"
   ]
  },
  {
   "cell_type": "code",
   "execution_count": 150,
   "metadata": {},
   "outputs": [
    {
     "name": "stdout",
     "output_type": "stream",
     "text": [
      "Method: Ridge Regression\n",
      "R2 score on training: 0.219409\n",
      "RMSE on training: 0.029409\n",
      "RMSE on 10-fold CV: 0.035792\n"
     ]
    }
   ],
   "source": [
    "method_name = 'Ridge Regression'\n",
    "print('Method: %s' %method_name)\n",
    "print('R2 score on training: %.6f'  %r2score_train_corr)\n",
    "print('RMSE on training: %.6f'  %rmse_train_corr)\n",
    "print('RMSE on 10-fold CV: %.6f'  %rmse_10cv_corr)"
   ]
  }
 ],
 "metadata": {
  "kernelspec": {
   "display_name": "Python 3",
   "language": "python",
   "name": "python3"
  },
  "language_info": {
   "codemirror_mode": {
    "name": "ipython",
    "version": 3
   },
   "file_extension": ".py",
   "mimetype": "text/x-python",
   "name": "python",
   "nbconvert_exporter": "python",
   "pygments_lexer": "ipython3",
   "version": "3.6.3"
  }
 },
 "nbformat": 4,
 "nbformat_minor": 2
}
