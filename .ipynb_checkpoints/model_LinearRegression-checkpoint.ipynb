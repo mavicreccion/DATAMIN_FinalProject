{
 "cells": [
  {
   "cell_type": "code",
   "execution_count": 145,
   "metadata": {
    "collapsed": true
   },
   "outputs": [],
   "source": [
    "from sklearn.model_selection import KFold, train_test_split\n",
    "from sklearn.metrics import r2_score, mean_squared_error\n",
    "from sklearn.linear_model import LinearRegression\n",
    "import numpy as np\n",
    "import pandas as pd\n",
    "import pylab as pl"
   ]
  },
  {
   "cell_type": "code",
   "execution_count": 146,
   "metadata": {
    "collapsed": true
   },
   "outputs": [],
   "source": [
    "weather_dataset1 = pd.read_csv('wwo_normalized_manila\\\\worldweatheronline_normalized_manila_2015_1day.csv', index_col=[0], parse_dates=[0], skipinitialspace=True)\n",
    "weather_dataset2 = pd.read_csv('wwo_normalized_manila\\\\worldweatheronline_normalized_manila_2016_1day.csv', index_col=[0], parse_dates=[0], skipinitialspace=True)\n",
    "weather_dataset3 = pd.read_csv('wwo_normalized_manila\\\\worldweatheronline_normalized_manila_2017_1day.csv', index_col=[0], parse_dates=[0], skipinitialspace=True)\n",
    "weather_dataset = []\n",
    "# weather_dataset.append(weather_dataset1)\n",
    "weather_dataset.append(weather_dataset2)\n",
    "weather_dataset.append(weather_dataset3)\n",
    "weather_dataset = pd.concat(weather_dataset)"
   ]
  },
  {
   "cell_type": "markdown",
   "metadata": {},
   "source": [
    "# Using All Weather Variables"
   ]
  },
  {
   "cell_type": "code",
   "execution_count": 147,
   "metadata": {},
   "outputs": [],
   "source": [
    "# Remove unused columns and reorder \n",
    "weather_dataset = weather_dataset[['precipMM', 'tempC', 'windspeedKmph', 'cond', 'humidity', 'visibility', 'pressure', 'cloudcover', 'heatIndexC', 'dewPointC', 'windChillC', 'windGustKmph', 'feelsLikeC']]"
   ]
  },
  {
   "cell_type": "code",
   "execution_count": 148,
   "metadata": {
    "collapsed": true
   },
   "outputs": [],
   "source": [
    "# In order to do multiple regression we need to add a column of 1s for x0\n",
    "x = weather_dataset.loc[:, weather_dataset.columns != 'precipMM'].values.tolist()\n",
    "x = np.array([np.concatenate((v,[1])) for v in x])\n",
    "\n",
    "# independent variable\n",
    "y = weather_dataset['precipMM']"
   ]
  },
  {
   "cell_type": "markdown",
   "metadata": {},
   "source": [
    "## Multiple Linear Regression using train_test_split"
   ]
  },
  {
   "cell_type": "code",
   "execution_count": 149,
   "metadata": {},
   "outputs": [
    {
     "data": {
      "text/plain": [
       "LinearRegression(copy_X=True, fit_intercept=True, n_jobs=1, normalize=False)"
      ]
     },
     "execution_count": 149,
     "metadata": {},
     "output_type": "execute_result"
    }
   ],
   "source": [
    "# Splitting training and testing data\n",
    "X_train, X_test, Y_train, Y_test = train_test_split(x, y, test_size=0.50, shuffle=False)\n",
    "\n",
    "# Create linear regression object\n",
    "linreg = LinearRegression()\n",
    "\n",
    "# Train the model using the training sets\n",
    "linreg.fit(X_train,Y_train)"
   ]
  },
  {
   "cell_type": "code",
   "execution_count": 150,
   "metadata": {},
   "outputs": [
    {
     "name": "stdout",
     "output_type": "stream",
     "text": [
      "R2 score -31.0825263864\n",
      "RMSE 0.188538212379\n"
     ]
    }
   ],
   "source": [
    "p = linreg.predict(X_test)\n",
    "\n",
    "# Compute RMSE and r2_score on training data\n",
    "r2score_train = r2_score(Y_test, p)\n",
    "rmse_train = np.sqrt(mean_squared_error(Y_test, p))\n",
    "\n",
    "print(\"R2 score\", r2score_train)\n",
    "print(\"RMSE\", rmse_train)"
   ]
  },
  {
   "cell_type": "code",
   "execution_count": 151,
   "metadata": {},
   "outputs": [
    {
     "name": "stdout",
     "output_type": "stream",
     "text": [
      "Regression Coefficients: \n",
      " [  1.33381365e+00  -3.67368830e-01  -3.23742027e-02  -2.48344771e-02\n",
      "  -3.46084678e-01   6.40796947e-04  -3.88745727e-03   2.42171019e-02\n",
      "   2.84437518e-02  -1.31231108e+00   5.67364615e-01  -1.41082897e-02\n",
      "   0.00000000e+00]\n"
     ]
    }
   ],
   "source": [
    "# We can view the regression coefficients\n",
    "print( 'Regression Coefficients: \\n', linreg.coef_)"
   ]
  },
  {
   "cell_type": "code",
   "execution_count": 152,
   "metadata": {},
   "outputs": [
    {
     "data": {
      "image/png": "[encoded data removed]",
      "text/plain": [
       "<matplotlib.figure.Figure at 0x15302a5d6a0>"
      ]
     },
     "metadata": {},
     "output_type": "display_data"
    }
   ],
   "source": [
    "# Plot outputs\n",
    "%matplotlib inline\n",
    "pl.plot(p, Y_test,'ro')\n",
    "pl.plot([0,0.4],[0,0.4], 'g-')\n",
    "pl.xlabel('predicted')\n",
    "pl.ylabel('real')\n",
    "pl.show()"
   ]
  },
  {
   "cell_type": "markdown",
   "metadata": {},
   "source": [
    "## Multiple Linear Regression using 10-fold cross validation"
   ]
  },
  {
   "cell_type": "code",
   "execution_count": 153,
   "metadata": {
    "collapsed": true
   },
   "outputs": [],
   "source": [
    "# Now let's compute RMSE using 10-fold x-validation\n",
    "kf = KFold(n_splits=10, shuffle=False, random_state=None)\n",
    "xval_err = 0\n",
    "for train_index, test_index in kf.split(x):\n",
    "    x_train, x_test = x[train_index], x[test_index]\n",
    "    y_train, y_test = y[train_index], y[test_index]\n",
    "    \n",
    "    linreg.fit(x_train, y_train)\n",
    "    p = linreg.predict(x_test)\n",
    "    e = p-y_test\n",
    "    xval_err += np.dot(e,e)\n",
    "    \n",
    "rmse_10cv = np.sqrt(xval_err/len(x))"
   ]
  },
  {
   "cell_type": "code",
   "execution_count": 154,
   "metadata": {},
   "outputs": [
    {
     "name": "stdout",
     "output_type": "stream",
     "text": [
      "Method: Simple Linear Regression\n",
      "R2 score on training: -31.082526\n",
      "RMSE on training: 0.188538\n",
      "RMSE on 10-fold CV: 0.026167\n"
     ]
    }
   ],
   "source": [
    "method_name = 'Simple Linear Regression'\n",
    "print('Method: %s' %method_name)\n",
    "print('R2 score on training: %.6f'  %r2score_train)\n",
    "print('RMSE on training: %.6f'  %rmse_train)\n",
    "print('RMSE on 10-fold CV: %.6f'  %rmse_10cv)"
   ]
  },
  {
   "cell_type": "markdown",
   "metadata": {},
   "source": [
    "# Using Correlated Weather Variables"
   ]
  },
  {
   "cell_type": "code",
   "execution_count": 155,
   "metadata": {
    "scrolled": true
   },
   "outputs": [],
   "source": [
    "# Remove unused columns and reorder \n",
    "weather_dataset = weather_dataset[['precipMM', 'humidity', 'cloudcover', 'dewPointC']]"
   ]
  },
  {
   "cell_type": "code",
   "execution_count": 156,
   "metadata": {
    "collapsed": true
   },
   "outputs": [],
   "source": [
    "# In order to do multiple regression we need to add a column of 1s for x0\n",
    "x = weather_dataset.loc[:, weather_dataset.columns != 'precipMM'].values.tolist()\n",
    "x = np.array([np.concatenate((v,[1])) for v in x])\n",
    "\n",
    "# independent variable\n",
    "y = weather_dataset['precipMM']"
   ]
  },
  {
   "cell_type": "markdown",
   "metadata": {},
   "source": [
    "## Multiple Linear Regression using train_test_split"
   ]
  },
  {
   "cell_type": "code",
   "execution_count": 157,
   "metadata": {},
   "outputs": [
    {
     "data": {
      "text/plain": [
       "LinearRegression(copy_X=True, fit_intercept=True, n_jobs=1, normalize=False)"
      ]
     },
     "execution_count": 157,
     "metadata": {},
     "output_type": "execute_result"
    }
   ],
   "source": [
    "# Splitting training and testing data\n",
    "X_train, X_test, Y_train, Y_test = train_test_split(x, y, test_size=0.50, shuffle=False)\n",
    "\n",
    "# Create linear regression object\n",
    "linreg = LinearRegression()\n",
    "\n",
    "# Train the model using the training sets\n",
    "linreg.fit(X_train,Y_train)"
   ]
  },
  {
   "cell_type": "code",
   "execution_count": 158,
   "metadata": {},
   "outputs": [
    {
     "name": "stdout",
     "output_type": "stream",
     "text": [
      "R2 score 0.194406986273\n",
      "RMSE 0.0298760343834\n"
     ]
    }
   ],
   "source": [
    "p = linreg.predict(X_test)\n",
    "\n",
    "# Compute RMSE and r2_score on training data\n",
    "r2score_train_corr = r2_score(Y_test, p)\n",
    "rmse_train_corr = np.sqrt(mean_squared_error(Y_test, p))\n",
    "\n",
    "print(\"R2 score\", r2score_train_corr)\n",
    "print(\"RMSE\", rmse_train_corr)"
   ]
  },
  {
   "cell_type": "code",
   "execution_count": 159,
   "metadata": {},
   "outputs": [
    {
     "name": "stdout",
     "output_type": "stream",
     "text": [
      "Regression Coefficients: \n",
      " [ 0.12397913  0.13044484  0.04540166  0.        ]\n"
     ]
    }
   ],
   "source": [
    "# We can view the regression coefficients\n",
    "print( 'Regression Coefficients: \\n', linreg.coef_)"
   ]
  },
  {
   "cell_type": "code",
   "execution_count": 160,
   "metadata": {},
   "outputs": [
    {
     "data": {
      "image/png": "[encoded data removed]",
      "text/plain": [
       "<matplotlib.figure.Figure at 0x15302983cc0>"
      ]
     },
     "metadata": {},
     "output_type": "display_data"
    }
   ],
   "source": [
    "# Plot outputs\n",
    "%matplotlib inline\n",
    "pl.plot(p, Y_test,'ro')\n",
    "pl.plot([0,0.4],[0,0.4], 'g-')\n",
    "pl.xlabel('predicted')\n",
    "pl.ylabel('real')\n",
    "pl.show()"
   ]
  },
  {
   "cell_type": "markdown",
   "metadata": {},
   "source": [
    "## Multiple Linear Regression using 10-fold cross validation"
   ]
  },
  {
   "cell_type": "code",
   "execution_count": 161,
   "metadata": {
    "collapsed": true
   },
   "outputs": [],
   "source": [
    "# Now let's compute RMSE using 10-fold x-validation\n",
    "kf = KFold(n_splits=10, shuffle=False, random_state=None)\n",
    "xval_err = 0\n",
    "for train_index, test_index in kf.split(x):\n",
    "    x_train, x_test = x[train_index], x[test_index]\n",
    "    y_train, y_test = y[train_index], y[test_index]\n",
    "    \n",
    "    linreg.fit(x_train, y_train)\n",
    "    p = linreg.predict(x_test)\n",
    "    e = p-y_test\n",
    "    xval_err += np.dot(e,e)\n",
    "    \n",
    "rmse_10cv_corr = np.sqrt(xval_err/len(x))"
   ]
  },
  {
   "cell_type": "code",
   "execution_count": 162,
   "metadata": {},
   "outputs": [
    {
     "name": "stdout",
     "output_type": "stream",
     "text": [
      "Method: Simple Linear Regression\n",
      "R2 score on training: 0.194407\n",
      "RMSE on training: 0.029876\n",
      "RMSE on 10-fold CV: 0.035840\n"
     ]
    }
   ],
   "source": [
    "method_name = 'Simple Linear Regression'\n",
    "print('Method: %s' %method_name)\n",
    "print('R2 score on training: %.6f'  %r2score_train_corr)\n",
    "print('RMSE on training: %.6f'  %rmse_train_corr)\n",
    "print('RMSE on 10-fold CV: %.6f'  %rmse_10cv_corr)"
   ]
  }
 ],
 "metadata": {
  "kernelspec": {
   "display_name": "Python 3",
   "language": "python",
   "name": "python3"
  },
  "language_info": {
   "codemirror_mode": {
    "name": "ipython",
    "version": 3
   },
   "file_extension": ".py",
   "mimetype": "text/x-python",
   "name": "python",
   "nbconvert_exporter": "python",
   "pygments_lexer": "ipython3",
   "version": "3.6.3"
  }
 },
 "nbformat": 4,
 "nbformat_minor": 2
}
