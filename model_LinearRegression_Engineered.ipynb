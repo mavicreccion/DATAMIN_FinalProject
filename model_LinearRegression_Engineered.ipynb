{
 "cells": [
  {
   "cell_type": "code",
   "execution_count": 76,
   "metadata": {
    "collapsed": true
   },
   "outputs": [],
   "source": [
    "from sklearn.model_selection import KFold, train_test_split\n",
    "from sklearn.metrics import r2_score, mean_squared_error\n",
    "from sklearn.linear_model import LinearRegression\n",
    "import numpy as np\n",
    "import pandas as pd\n",
    "import pylab as pl"
   ]
  },
  {
   "cell_type": "code",
   "execution_count": 77,
   "metadata": {
    "collapsed": true
   },
   "outputs": [],
   "source": [
    "WINDOW = 4"
   ]
  },
  {
   "cell_type": "markdown",
   "metadata": {},
   "source": [
    "# Using All Weather Variables - Redundant"
   ]
  },
  {
   "cell_type": "code",
   "execution_count": 78,
   "metadata": {},
   "outputs": [
    {
     "data": {
      "text/html": [
       "<div>\n",
       "<style>\n",
       "    .dataframe thead tr:only-child th {\n",
       "        text-align: right;\n",
       "    }\n",
       "\n",
       "    .dataframe thead th {\n",
       "        text-align: left;\n",
       "    }\n",
       "\n",
       "    .dataframe tbody tr th {\n",
       "        vertical-align: top;\n",
       "    }\n",
       "</style>\n",
       "<table border=\"1\" class=\"dataframe\">\n",
       "  <thead>\n",
       "    <tr style=\"text-align: right;\">\n",
       "      <th></th>\n",
       "      <th>tempC</th>\n",
       "      <th>windspeedKmph</th>\n",
       "      <th>cond</th>\n",
       "      <th>humidity</th>\n",
       "      <th>visibility</th>\n",
       "      <th>pressure</th>\n",
       "      <th>cloudcover</th>\n",
       "      <th>dewPointC</th>\n",
       "      <th>windGustKmph</th>\n",
       "      <th>tempC_Rmean (window = 4)</th>\n",
       "      <th>...</th>\n",
       "      <th>pressure_Rmax  (window = 4)</th>\n",
       "      <th>cloudcover_Rmean (window = 4)</th>\n",
       "      <th>cloudcover_Rmin  (window = 4)</th>\n",
       "      <th>cloudcover_Rmax  (window = 4)</th>\n",
       "      <th>dewPointC_Rmean (window = 4)</th>\n",
       "      <th>dewPointC_Rmin  (window = 4)</th>\n",
       "      <th>dewPointC_Rmax  (window = 4)</th>\n",
       "      <th>windGustKmph_Rmean (window = 4)</th>\n",
       "      <th>windGustKmph_Rmin  (window = 4)</th>\n",
       "      <th>windGustKmph_Rmax  (window = 4)</th>\n",
       "    </tr>\n",
       "  </thead>\n",
       "  <tbody>\n",
       "    <tr>\n",
       "      <th>0</th>\n",
       "      <td>0.232552</td>\n",
       "      <td>0.350260</td>\n",
       "      <td>0.565789</td>\n",
       "      <td>0.810009</td>\n",
       "      <td>0.968750</td>\n",
       "      <td>0.775503</td>\n",
       "      <td>0.333906</td>\n",
       "      <td>0.569311</td>\n",
       "      <td>0.285807</td>\n",
       "      <td>0.000000</td>\n",
       "      <td>...</td>\n",
       "      <td>0.000000</td>\n",
       "      <td>0.000000</td>\n",
       "      <td>0.0</td>\n",
       "      <td>0.000000</td>\n",
       "      <td>0.000000</td>\n",
       "      <td>0.0</td>\n",
       "      <td>0.000000</td>\n",
       "      <td>0.000000</td>\n",
       "      <td>0.0</td>\n",
       "      <td>0.000000</td>\n",
       "    </tr>\n",
       "    <tr>\n",
       "      <th>1</th>\n",
       "      <td>0.231250</td>\n",
       "      <td>0.441406</td>\n",
       "      <td>0.585526</td>\n",
       "      <td>0.765097</td>\n",
       "      <td>1.000000</td>\n",
       "      <td>0.848240</td>\n",
       "      <td>0.308802</td>\n",
       "      <td>0.504407</td>\n",
       "      <td>0.334925</td>\n",
       "      <td>0.000000</td>\n",
       "      <td>...</td>\n",
       "      <td>0.000000</td>\n",
       "      <td>0.000000</td>\n",
       "      <td>0.0</td>\n",
       "      <td>0.000000</td>\n",
       "      <td>0.000000</td>\n",
       "      <td>0.0</td>\n",
       "      <td>0.000000</td>\n",
       "      <td>0.000000</td>\n",
       "      <td>0.0</td>\n",
       "      <td>0.000000</td>\n",
       "    </tr>\n",
       "    <tr>\n",
       "      <th>2</th>\n",
       "      <td>0.241667</td>\n",
       "      <td>0.305398</td>\n",
       "      <td>0.631579</td>\n",
       "      <td>0.808877</td>\n",
       "      <td>1.000000</td>\n",
       "      <td>0.826509</td>\n",
       "      <td>0.484427</td>\n",
       "      <td>0.570513</td>\n",
       "      <td>0.227720</td>\n",
       "      <td>0.000000</td>\n",
       "      <td>...</td>\n",
       "      <td>0.000000</td>\n",
       "      <td>0.000000</td>\n",
       "      <td>0.0</td>\n",
       "      <td>0.000000</td>\n",
       "      <td>0.000000</td>\n",
       "      <td>0.0</td>\n",
       "      <td>0.000000</td>\n",
       "      <td>0.000000</td>\n",
       "      <td>0.0</td>\n",
       "      <td>0.000000</td>\n",
       "    </tr>\n",
       "    <tr>\n",
       "      <th>3</th>\n",
       "      <td>0.278385</td>\n",
       "      <td>0.205374</td>\n",
       "      <td>0.580044</td>\n",
       "      <td>0.838240</td>\n",
       "      <td>1.000000</td>\n",
       "      <td>0.762392</td>\n",
       "      <td>0.418542</td>\n",
       "      <td>0.612179</td>\n",
       "      <td>0.173394</td>\n",
       "      <td>0.058138</td>\n",
       "      <td>...</td>\n",
       "      <td>0.775503</td>\n",
       "      <td>0.083477</td>\n",
       "      <td>0.0</td>\n",
       "      <td>0.333906</td>\n",
       "      <td>0.142328</td>\n",
       "      <td>0.0</td>\n",
       "      <td>0.569311</td>\n",
       "      <td>0.071452</td>\n",
       "      <td>0.0</td>\n",
       "      <td>0.285807</td>\n",
       "    </tr>\n",
       "    <tr>\n",
       "      <th>4</th>\n",
       "      <td>0.323698</td>\n",
       "      <td>0.177083</td>\n",
       "      <td>0.399123</td>\n",
       "      <td>0.842995</td>\n",
       "      <td>0.848307</td>\n",
       "      <td>0.742816</td>\n",
       "      <td>0.361146</td>\n",
       "      <td>0.685897</td>\n",
       "      <td>0.150246</td>\n",
       "      <td>0.115951</td>\n",
       "      <td>...</td>\n",
       "      <td>1.623743</td>\n",
       "      <td>0.160677</td>\n",
       "      <td>0.0</td>\n",
       "      <td>0.642708</td>\n",
       "      <td>0.268429</td>\n",
       "      <td>0.0</td>\n",
       "      <td>1.073718</td>\n",
       "      <td>0.155183</td>\n",
       "      <td>0.0</td>\n",
       "      <td>0.620732</td>\n",
       "    </tr>\n",
       "  </tbody>\n",
       "</table>\n",
       "<p>5 rows × 36 columns</p>\n",
       "</div>"
      ],
      "text/plain": [
       "      tempC  windspeedKmph      cond  humidity  visibility  pressure  \\\n",
       "0  0.232552       0.350260  0.565789  0.810009    0.968750  0.775503   \n",
       "1  0.231250       0.441406  0.585526  0.765097    1.000000  0.848240   \n",
       "2  0.241667       0.305398  0.631579  0.808877    1.000000  0.826509   \n",
       "3  0.278385       0.205374  0.580044  0.838240    1.000000  0.762392   \n",
       "4  0.323698       0.177083  0.399123  0.842995    0.848307  0.742816   \n",
       "\n",
       "   cloudcover  dewPointC  windGustKmph  tempC_Rmean (window = 4)  \\\n",
       "0    0.333906   0.569311      0.285807                  0.000000   \n",
       "1    0.308802   0.504407      0.334925                  0.000000   \n",
       "2    0.484427   0.570513      0.227720                  0.000000   \n",
       "3    0.418542   0.612179      0.173394                  0.058138   \n",
       "4    0.361146   0.685897      0.150246                  0.115951   \n",
       "\n",
       "                ...                 pressure_Rmax  (window = 4)  \\\n",
       "0               ...                                    0.000000   \n",
       "1               ...                                    0.000000   \n",
       "2               ...                                    0.000000   \n",
       "3               ...                                    0.775503   \n",
       "4               ...                                    1.623743   \n",
       "\n",
       "   cloudcover_Rmean (window = 4)  cloudcover_Rmin  (window = 4)  \\\n",
       "0                       0.000000                            0.0   \n",
       "1                       0.000000                            0.0   \n",
       "2                       0.000000                            0.0   \n",
       "3                       0.083477                            0.0   \n",
       "4                       0.160677                            0.0   \n",
       "\n",
       "   cloudcover_Rmax  (window = 4)  dewPointC_Rmean (window = 4)  \\\n",
       "0                       0.000000                      0.000000   \n",
       "1                       0.000000                      0.000000   \n",
       "2                       0.000000                      0.000000   \n",
       "3                       0.333906                      0.142328   \n",
       "4                       0.642708                      0.268429   \n",
       "\n",
       "   dewPointC_Rmin  (window = 4)  dewPointC_Rmax  (window = 4)  \\\n",
       "0                           0.0                      0.000000   \n",
       "1                           0.0                      0.000000   \n",
       "2                           0.0                      0.000000   \n",
       "3                           0.0                      0.569311   \n",
       "4                           0.0                      1.073718   \n",
       "\n",
       "   windGustKmph_Rmean (window = 4)  windGustKmph_Rmin  (window = 4)  \\\n",
       "0                         0.000000                              0.0   \n",
       "1                         0.000000                              0.0   \n",
       "2                         0.000000                              0.0   \n",
       "3                         0.071452                              0.0   \n",
       "4                         0.155183                              0.0   \n",
       "\n",
       "   windGustKmph_Rmax  (window = 4)  \n",
       "0                         0.000000  \n",
       "1                         0.000000  \n",
       "2                         0.000000  \n",
       "3                         0.285807  \n",
       "4                         0.620732  \n",
       "\n",
       "[5 rows x 36 columns]"
      ]
     },
     "execution_count": 78,
     "metadata": {},
     "output_type": "execute_result"
    }
   ],
   "source": [
    "FILENAME = \"engineered_worldweatheronline_normalized_manila_2015_1day\"\n",
    "weather_dataset = pd.read_csv(\"windows_\" + FILENAME + \"/\" + FILENAME + \"_win\" + str(WINDOW) + \".csv\", skipinitialspace=True)\n",
    "precip = weather_dataset.precipMM\n",
    "weather_dataset = weather_dataset.drop(weather_dataset.columns[0], axis=1)\n",
    "\n",
    "cols_to_remove = []\n",
    "# For Window 1 LANG\n",
    "temp = list(range(12, 16))\n",
    "windspd = list(range(16, 20))\n",
    "cond = list(range(20, 24))\n",
    "hum = list(range(24, 28))\n",
    "vis = list(range(28, 32))\n",
    "pres = list(range(32, 36))\n",
    "cloud = list(range(36, 40))\n",
    "heatindex = list(range(40, 44))\n",
    "dewpoint = list(range(44, 48))\n",
    "windchill = list(range(48, 52))\n",
    "windgust = list(range(52, 56))\n",
    "feelslike = list(range(56, 60))\n",
    "\n",
    "\n",
    "# For Window 2 and above\n",
    "if WINDOW >= 2:\n",
    "    temp = list(range(12, 15))\n",
    "    windspd = list(range(15, 18))\n",
    "    cond = list(range(18, 21))\n",
    "    hum = list(range(21, 24))\n",
    "    vis = list(range(24, 27))\n",
    "    pres = list(range(27, 30))\n",
    "    cloud = list(range(30, 33))\n",
    "    heatindex = list(range(33, 36))\n",
    "    dewpoint = list(range(36, 39))\n",
    "    windchill = list(range(39, 42))\n",
    "    windgust = list(range(42, 45))\n",
    "    feelslike = list(range(45, 48))\n",
    "\n",
    "cols_to_remove = [heatindex + windchill + feelslike]\n",
    "#cols_to_remove = [temp  + windspd + cond + hum + vis + pres + cloud + heatindex + dewpoint + windchill + windgust + feelslike]\n",
    "w = weather_dataset.drop(weather_dataset.columns[cols_to_remove], axis=1, inplace = False)\n",
    "\n",
    "\n",
    "#Original Features\n",
    "##cols_to_remove = [0, 1, 2, 3, 4, 5, 6, 7, 8, 9, 10, 11]\n",
    "cols_to_remove = [7, 9, 11]\n",
    "#cols_to_remove = [0, 2, 4, 5, 7, 8, 9, 11]\n",
    "\n",
    "w = w.drop(w.columns[cols_to_remove], axis=1, inplace = False)\n",
    "weather_dataset = w\n",
    "weather_dataset.head()\n"
   ]
  },
  {
   "cell_type": "code",
   "execution_count": 79,
   "metadata": {
    "collapsed": true
   },
   "outputs": [],
   "source": [
    "# In order to do multiple regression we need to add a column of 1s for x0\n",
    "x = weather_dataset.values.tolist()\n",
    "x = np.array([np.concatenate((v,[1])) for v in x])\n",
    "\n",
    "# independent variable\n",
    "y = precip"
   ]
  },
  {
   "cell_type": "markdown",
   "metadata": {},
   "source": [
    "## Multiple Linear Regression using train_test_split"
   ]
  },
  {
   "cell_type": "code",
   "execution_count": 80,
   "metadata": {},
   "outputs": [
    {
     "data": {
      "text/plain": [
       "LinearRegression(copy_X=True, fit_intercept=True, n_jobs=1, normalize=False)"
      ]
     },
     "execution_count": 80,
     "metadata": {},
     "output_type": "execute_result"
    }
   ],
   "source": [
    "# Splitting training and testing data\n",
    "X_train, X_test, Y_train, Y_test = train_test_split(x, y, test_size=0.33, shuffle=False)\n",
    "\n",
    "# Create linear regression object\n",
    "linreg = LinearRegression()\n",
    "\n",
    "# Train the model using the training sets\n",
    "linreg.fit(X_train,Y_train)"
   ]
  },
  {
   "cell_type": "code",
   "execution_count": 81,
   "metadata": {},
   "outputs": [
    {
     "name": "stdout",
     "output_type": "stream",
     "text": [
      "R2 score 0.841189915836\n",
      "RMSE 0.0263727317603\n"
     ]
    }
   ],
   "source": [
    "p = linreg.predict(X_test)\n",
    "\n",
    "# Compute RMSE and r2_score on training data\n",
    "r2score_train = r2_score(Y_test, p)\n",
    "rmse_train = np.sqrt(mean_squared_error(Y_test, p))\n",
    "\n",
    "print(\"R2 score\", r2score_train)\n",
    "print(\"RMSE\", rmse_train)"
   ]
  },
  {
   "cell_type": "code",
   "execution_count": 82,
   "metadata": {},
   "outputs": [
    {
     "name": "stdout",
     "output_type": "stream",
     "text": [
      "Regression Coefficients: \n",
      " [ -4.39592536e-02  -6.78344821e-01  -9.42074007e-03  -7.70340478e-02\n",
      "  -2.40597274e-01   1.51442733e-02  -8.50124041e-03   7.64334510e-02\n",
      "   8.93438348e-01  -8.96499846e+09  -2.57277804e-02   2.24124962e+09\n",
      "  -6.63413793e+10   1.08123021e-01   1.65853448e+10  -6.57663482e+11\n",
      "  -2.76867281e-03   1.64415870e+11  -3.68182962e+10   6.23165683e-02\n",
      "   9.20457404e+09   4.90611916e+11   7.38713908e-02  -1.22652979e+11\n",
      "  -1.50635286e+12  -4.03168042e-02   3.76588214e+11   2.43145168e+10\n",
      "  -3.44934627e-02  -6.07862919e+09  -1.19026279e+11  -3.17297621e-02\n",
      "   2.97565697e+10  -4.78449107e+10  -1.23798992e-01   1.19612277e+10\n",
      "   0.00000000e+00]\n"
     ]
    }
   ],
   "source": [
    "# We can view the regression coefficients\n",
    "print( 'Regression Coefficients: \\n', linreg.coef_)"
   ]
  },
  {
   "cell_type": "code",
   "execution_count": 83,
   "metadata": {},
   "outputs": [
    {
     "data": {
      "image/png": "[encoded data removed]",
      "text/plain": [
       "<matplotlib.figure.Figure at 0x24d210de780>"
      ]
     },
     "metadata": {},
     "output_type": "display_data"
    },
    {
     "data": {
      "text/plain": [
       "<matplotlib.figure.Figure at 0x24d20f20390>"
      ]
     },
     "metadata": {},
     "output_type": "display_data"
    }
   ],
   "source": [
    "# Plot outputs\n",
    "%matplotlib inline\n",
    "pl.plot(p, Y_test,'ro')\n",
    "pl.plot([0,0.4],[0,0.4], 'g-')\n",
    "pl.xlabel('predicted')\n",
    "pl.ylabel('real')\n",
    "pl.show()\n",
    "\n",
    "pl.savefig('wwo_model_results/linear_all_scatterplot.png')"
   ]
  },
  {
   "cell_type": "code",
   "execution_count": 84,
   "metadata": {},
   "outputs": [
    {
     "data": {
      "image/png": "[encoded data removed]",
      "text/plain": [
       "<matplotlib.figure.Figure at 0x24d211c5978>"
      ]
     },
     "metadata": {},
     "output_type": "display_data"
    },
    {
     "data": {
      "text/plain": [
       "<matplotlib.figure.Figure at 0x24d20e29e48>"
      ]
     },
     "metadata": {},
     "output_type": "display_data"
    }
   ],
   "source": [
    "# Plot outputs\n",
    "%matplotlib inline\n",
    "pl.plot(Y_test.index, p, label='predicted')\n",
    "pl.plot(Y_test.index, Y_test, label='real')\n",
    "pl.ylabel('precip')\n",
    "pl.xlabel('date')\n",
    "pl.legend()\n",
    "pl.show()\n",
    "\n",
    "pl.savefig('wwo_model_results/linear_all_linegraph.png')"
   ]
  },
  {
   "cell_type": "markdown",
   "metadata": {},
   "source": [
    "## Multiple Linear Regression using 10-fold cross validation"
   ]
  },
  {
   "cell_type": "code",
   "execution_count": 85,
   "metadata": {
    "collapsed": true
   },
   "outputs": [],
   "source": [
    "# Now let's compute RMSE using 10-fold x-validation\n",
    "kf = KFold(n_splits=10, shuffle=False, random_state=None)\n",
    "xval_err = 0\n",
    "for train_index, test_index in kf.split(x):\n",
    "    x_train, x_test = x[train_index], x[test_index]\n",
    "    y_train, y_test = y[train_index], y[test_index]\n",
    "    \n",
    "    linreg.fit(x_train, y_train)\n",
    "    p = linreg.predict(x_test)\n",
    "    e = p-y_test\n",
    "    xval_err += np.dot(e,e)\n",
    "    \n",
    "rmse_10cv = np.sqrt(xval_err/len(x))"
   ]
  },
  {
   "cell_type": "code",
   "execution_count": 86,
   "metadata": {},
   "outputs": [
    {
     "name": "stdout",
     "output_type": "stream",
     "text": [
      "Method: Simple Linear Regression\n",
      "R2 score on training: 0.841190\n",
      "RMSE on training: 0.026373\n",
      "RMSE on 10-fold CV: 0.022646\n"
     ]
    }
   ],
   "source": [
    "method_name = 'Simple Linear Regression'\n",
    "print('Method: %s' %method_name)\n",
    "print('R2 score on training: %.6f'  %r2score_train)\n",
    "print('RMSE on training: %.6f'  %rmse_train)\n",
    "print('RMSE on 10-fold CV: %.6f'  %rmse_10cv)"
   ]
  },
  {
   "cell_type": "markdown",
   "metadata": {},
   "source": [
    "# Using Correlated Weather Variables"
   ]
  },
  {
   "cell_type": "code",
   "execution_count": 87,
   "metadata": {
    "scrolled": true
   },
   "outputs": [
    {
     "data": {
      "text/html": [
       "<div>\n",
       "<style>\n",
       "    .dataframe thead tr:only-child th {\n",
       "        text-align: right;\n",
       "    }\n",
       "\n",
       "    .dataframe thead th {\n",
       "        text-align: left;\n",
       "    }\n",
       "\n",
       "    .dataframe tbody tr th {\n",
       "        vertical-align: top;\n",
       "    }\n",
       "</style>\n",
       "<table border=\"1\" class=\"dataframe\">\n",
       "  <thead>\n",
       "    <tr style=\"text-align: right;\">\n",
       "      <th></th>\n",
       "      <th>cond</th>\n",
       "      <th>humidity</th>\n",
       "      <th>cloudcover</th>\n",
       "      <th>dewPointC</th>\n",
       "      <th>cond_Rmean (window = 4)</th>\n",
       "      <th>cond_Rmin  (window = 4)</th>\n",
       "      <th>cond_Rmax  (window = 4)</th>\n",
       "      <th>humidity_Rmean (window = 4)</th>\n",
       "      <th>humidity_Rmin  (window = 4)</th>\n",
       "      <th>humidity_Rmax  (window = 4)</th>\n",
       "      <th>cloudcover_Rmean (window = 4)</th>\n",
       "      <th>cloudcover_Rmin  (window = 4)</th>\n",
       "      <th>cloudcover_Rmax  (window = 4)</th>\n",
       "      <th>dewPointC_Rmean (window = 4)</th>\n",
       "      <th>dewPointC_Rmin  (window = 4)</th>\n",
       "      <th>dewPointC_Rmax  (window = 4)</th>\n",
       "    </tr>\n",
       "  </thead>\n",
       "  <tbody>\n",
       "    <tr>\n",
       "      <th>0</th>\n",
       "      <td>0.565789</td>\n",
       "      <td>0.810009</td>\n",
       "      <td>0.333906</td>\n",
       "      <td>0.569311</td>\n",
       "      <td>0.000000</td>\n",
       "      <td>0.0</td>\n",
       "      <td>0.000000</td>\n",
       "      <td>0.000000</td>\n",
       "      <td>0.0</td>\n",
       "      <td>0.000000</td>\n",
       "      <td>0.000000</td>\n",
       "      <td>0.0</td>\n",
       "      <td>0.000000</td>\n",
       "      <td>0.000000</td>\n",
       "      <td>0.0</td>\n",
       "      <td>0.000000</td>\n",
       "    </tr>\n",
       "    <tr>\n",
       "      <th>1</th>\n",
       "      <td>0.585526</td>\n",
       "      <td>0.765097</td>\n",
       "      <td>0.308802</td>\n",
       "      <td>0.504407</td>\n",
       "      <td>0.000000</td>\n",
       "      <td>0.0</td>\n",
       "      <td>0.000000</td>\n",
       "      <td>0.000000</td>\n",
       "      <td>0.0</td>\n",
       "      <td>0.000000</td>\n",
       "      <td>0.000000</td>\n",
       "      <td>0.0</td>\n",
       "      <td>0.000000</td>\n",
       "      <td>0.000000</td>\n",
       "      <td>0.0</td>\n",
       "      <td>0.000000</td>\n",
       "    </tr>\n",
       "    <tr>\n",
       "      <th>2</th>\n",
       "      <td>0.631579</td>\n",
       "      <td>0.808877</td>\n",
       "      <td>0.484427</td>\n",
       "      <td>0.570513</td>\n",
       "      <td>0.000000</td>\n",
       "      <td>0.0</td>\n",
       "      <td>0.000000</td>\n",
       "      <td>0.000000</td>\n",
       "      <td>0.0</td>\n",
       "      <td>0.000000</td>\n",
       "      <td>0.000000</td>\n",
       "      <td>0.0</td>\n",
       "      <td>0.000000</td>\n",
       "      <td>0.000000</td>\n",
       "      <td>0.0</td>\n",
       "      <td>0.000000</td>\n",
       "    </tr>\n",
       "    <tr>\n",
       "      <th>3</th>\n",
       "      <td>0.580044</td>\n",
       "      <td>0.838240</td>\n",
       "      <td>0.418542</td>\n",
       "      <td>0.612179</td>\n",
       "      <td>0.141447</td>\n",
       "      <td>0.0</td>\n",
       "      <td>0.565789</td>\n",
       "      <td>0.202502</td>\n",
       "      <td>0.0</td>\n",
       "      <td>0.810009</td>\n",
       "      <td>0.083477</td>\n",
       "      <td>0.0</td>\n",
       "      <td>0.333906</td>\n",
       "      <td>0.142328</td>\n",
       "      <td>0.0</td>\n",
       "      <td>0.569311</td>\n",
       "    </tr>\n",
       "    <tr>\n",
       "      <th>4</th>\n",
       "      <td>0.399123</td>\n",
       "      <td>0.842995</td>\n",
       "      <td>0.361146</td>\n",
       "      <td>0.685897</td>\n",
       "      <td>0.287829</td>\n",
       "      <td>0.0</td>\n",
       "      <td>1.151316</td>\n",
       "      <td>0.393776</td>\n",
       "      <td>0.0</td>\n",
       "      <td>1.575106</td>\n",
       "      <td>0.160677</td>\n",
       "      <td>0.0</td>\n",
       "      <td>0.642708</td>\n",
       "      <td>0.268429</td>\n",
       "      <td>0.0</td>\n",
       "      <td>1.073718</td>\n",
       "    </tr>\n",
       "  </tbody>\n",
       "</table>\n",
       "</div>"
      ],
      "text/plain": [
       "       cond  humidity  cloudcover  dewPointC  cond_Rmean (window = 4)  \\\n",
       "0  0.565789  0.810009    0.333906   0.569311                 0.000000   \n",
       "1  0.585526  0.765097    0.308802   0.504407                 0.000000   \n",
       "2  0.631579  0.808877    0.484427   0.570513                 0.000000   \n",
       "3  0.580044  0.838240    0.418542   0.612179                 0.141447   \n",
       "4  0.399123  0.842995    0.361146   0.685897                 0.287829   \n",
       "\n",
       "   cond_Rmin  (window = 4)  cond_Rmax  (window = 4)  \\\n",
       "0                      0.0                 0.000000   \n",
       "1                      0.0                 0.000000   \n",
       "2                      0.0                 0.000000   \n",
       "3                      0.0                 0.565789   \n",
       "4                      0.0                 1.151316   \n",
       "\n",
       "   humidity_Rmean (window = 4)  humidity_Rmin  (window = 4)  \\\n",
       "0                     0.000000                          0.0   \n",
       "1                     0.000000                          0.0   \n",
       "2                     0.000000                          0.0   \n",
       "3                     0.202502                          0.0   \n",
       "4                     0.393776                          0.0   \n",
       "\n",
       "   humidity_Rmax  (window = 4)  cloudcover_Rmean (window = 4)  \\\n",
       "0                     0.000000                       0.000000   \n",
       "1                     0.000000                       0.000000   \n",
       "2                     0.000000                       0.000000   \n",
       "3                     0.810009                       0.083477   \n",
       "4                     1.575106                       0.160677   \n",
       "\n",
       "   cloudcover_Rmin  (window = 4)  cloudcover_Rmax  (window = 4)  \\\n",
       "0                            0.0                       0.000000   \n",
       "1                            0.0                       0.000000   \n",
       "2                            0.0                       0.000000   \n",
       "3                            0.0                       0.333906   \n",
       "4                            0.0                       0.642708   \n",
       "\n",
       "   dewPointC_Rmean (window = 4)  dewPointC_Rmin  (window = 4)  \\\n",
       "0                      0.000000                           0.0   \n",
       "1                      0.000000                           0.0   \n",
       "2                      0.000000                           0.0   \n",
       "3                      0.142328                           0.0   \n",
       "4                      0.268429                           0.0   \n",
       "\n",
       "   dewPointC_Rmax  (window = 4)  \n",
       "0                      0.000000  \n",
       "1                      0.000000  \n",
       "2                      0.000000  \n",
       "3                      0.569311  \n",
       "4                      1.073718  "
      ]
     },
     "execution_count": 87,
     "metadata": {},
     "output_type": "execute_result"
    }
   ],
   "source": [
    "# Remove unused columns and reorder \n",
    "FILENAME = \"engineered_worldweatheronline_normalized_manila_2015_1day\"\n",
    "weather_dataset = pd.read_csv(\"windows_\" + FILENAME + \"/\" + FILENAME + \"_win\" + str(WINDOW) + \".csv\", skipinitialspace=True)\n",
    "weather_dataset = weather_dataset.drop(weather_dataset.columns[0], axis=1)\n",
    "\n",
    "cols_to_remove = []\n",
    "# For Window 1 LANG\n",
    "temp = list(range(12, 16))\n",
    "windspd = list(range(16, 20))\n",
    "cond = list(range(20, 24))\n",
    "hum = list(range(24, 28))\n",
    "vis = list(range(28, 32))\n",
    "pres = list(range(32, 36))\n",
    "cloud = list(range(36, 40))\n",
    "heatindex = list(range(40, 44))\n",
    "dewpoint = list(range(44, 48))\n",
    "windchill = list(range(48, 52))\n",
    "windgust = list(range(52, 56))\n",
    "feelslike = list(range(56, 60))\n",
    "\n",
    "\n",
    "# For Window 2 and above\n",
    "if WINDOW >= 2:\n",
    "    temp = list(range(12, 15))\n",
    "    windspd = list(range(15, 18))\n",
    "    cond = list(range(18, 21))\n",
    "    hum = list(range(21, 24))\n",
    "    vis = list(range(24, 27))\n",
    "    pres = list(range(27, 30))\n",
    "    cloud = list(range(30, 33))\n",
    "    heatindex = list(range(33, 36))\n",
    "    dewpoint = list(range(36, 39))\n",
    "    windchill = list(range(39, 42))\n",
    "    windgust = list(range(42, 45))\n",
    "    feelslike = list(range(45, 48))\n",
    "\n",
    "\n",
    "cols_to_remove = [temp  + windspd + vis + pres + heatindex + windchill + windgust + feelslike]\n",
    "# cols_to_remove = [temp  + windspd + cond + hum + vis + pres + cloud + heatindex + dewpoint + windchill + windgust + feelslike]\n",
    "w = weather_dataset.drop(weather_dataset.columns[cols_to_remove], axis=1, inplace = False)\n",
    "\n",
    "\n",
    "#Original Features\n",
    "cols_to_remove = [0, 1, 4, 5, 7, 9, 10, 11]\n",
    "\n",
    "w = w.drop(w.columns[cols_to_remove], axis=1, inplace = False)\n",
    "weather_dataset = w\n",
    "weather_dataset.head()\n"
   ]
  },
  {
   "cell_type": "code",
   "execution_count": 88,
   "metadata": {
    "collapsed": true
   },
   "outputs": [],
   "source": [
    "# In order to do multiple regression we need to add a column of 1s for x0\n",
    "x = weather_dataset.loc[:, weather_dataset.columns != 'precipMM'].values.tolist()\n",
    "x = np.array([np.concatenate((v,[1])) for v in x])\n",
    "\n",
    "# independent variable\n",
    "y = precip"
   ]
  },
  {
   "cell_type": "markdown",
   "metadata": {},
   "source": [
    "## Multiple Linear Regression using train_test_split"
   ]
  },
  {
   "cell_type": "code",
   "execution_count": 89,
   "metadata": {},
   "outputs": [
    {
     "data": {
      "text/plain": [
       "LinearRegression(copy_X=True, fit_intercept=True, n_jobs=1, normalize=False)"
      ]
     },
     "execution_count": 89,
     "metadata": {},
     "output_type": "execute_result"
    }
   ],
   "source": [
    "# Splitting training and testing data\n",
    "X_train, X_test, Y_train, Y_test = train_test_split(x, y, test_size=0.33, shuffle=False)\n",
    "\n",
    "# Create linear regression object\n",
    "linreg = LinearRegression()\n",
    "\n",
    "# Train the model using the training sets\n",
    "linreg.fit(X_train,Y_train)"
   ]
  },
  {
   "cell_type": "code",
   "execution_count": 90,
   "metadata": {},
   "outputs": [
    {
     "name": "stdout",
     "output_type": "stream",
     "text": [
      "R2 score 0.406219969612\n",
      "RMSE 0.0509951499778\n"
     ]
    }
   ],
   "source": [
    "p = linreg.predict(X_test)\n",
    "\n",
    "# Compute RMSE and r2_score on training data\n",
    "r2score_train_corr = r2_score(Y_test, p)\n",
    "rmse_train_corr = np.sqrt(mean_squared_error(Y_test, p))\n",
    "\n",
    "print(\"R2 score\", r2score_train_corr)\n",
    "print(\"RMSE\", rmse_train_corr)"
   ]
  },
  {
   "cell_type": "code",
   "execution_count": 91,
   "metadata": {},
   "outputs": [
    {
     "name": "stdout",
     "output_type": "stream",
     "text": [
      "Regression Coefficients: \n",
      " [ -2.21627431e-03   1.41925579e-01   9.40153253e-02   1.62394593e-02\n",
      "  -8.80905544e-03   1.21086578e-01  -3.52362217e-02  -8.82350808e-04\n",
      "  -1.37519081e-02  -3.52940323e-03   5.40786792e-03  -9.03251624e-02\n",
      "   2.16314717e-02  -1.33455992e-04   7.32592889e-02  -5.33823968e-04\n",
      "   0.00000000e+00]\n"
     ]
    }
   ],
   "source": [
    "# We can view the regression coefficients\n",
    "print( 'Regression Coefficients: \\n', linreg.coef_)"
   ]
  },
  {
   "cell_type": "code",
   "execution_count": 92,
   "metadata": {
    "scrolled": true
   },
   "outputs": [
    {
     "data": {
      "image/png": "[encoded data removed]",
      "text/plain": [
       "<matplotlib.figure.Figure at 0x24d2115e278>"
      ]
     },
     "metadata": {},
     "output_type": "display_data"
    }
   ],
   "source": [
    "# Plot outputs\n",
    "%matplotlib inline\n",
    "pl.plot(p, Y_test,'ro')\n",
    "pl.plot([0,0.4],[0,0.4], 'g-')\n",
    "pl.xlabel('predicted')\n",
    "pl.ylabel('real')\n",
    "pl.show()"
   ]
  },
  {
   "cell_type": "code",
   "execution_count": 93,
   "metadata": {},
   "outputs": [
    {
     "data": {
      "image/png": "[encoded data removed]",
      "text/plain": [
       "<matplotlib.figure.Figure at 0x24d203d9588>"
      ]
     },
     "metadata": {},
     "output_type": "display_data"
    }
   ],
   "source": [
    "# Plot outputs\n",
    "%matplotlib inline\n",
    "pl.plot(Y_test.index, p, label='predicted')\n",
    "pl.plot(Y_test.index, Y_test, label='real')\n",
    "pl.ylabel('precip')\n",
    "pl.xlabel('date')\n",
    "pl.legend()\n",
    "pl.show()"
   ]
  },
  {
   "cell_type": "markdown",
   "metadata": {},
   "source": [
    "## Multiple Linear Regression using 10-fold cross validation"
   ]
  },
  {
   "cell_type": "code",
   "execution_count": 94,
   "metadata": {
    "collapsed": true
   },
   "outputs": [],
   "source": [
    "# Now let's compute RMSE using 10-fold x-validation\n",
    "kf = KFold(n_splits=10, shuffle=False, random_state=None)\n",
    "xval_err = 0\n",
    "for train_index, test_index in kf.split(x):\n",
    "    x_train, x_test = x[train_index], x[test_index]\n",
    "    y_train, y_test = y[train_index], y[test_index]\n",
    "    \n",
    "    linreg.fit(x_train, y_train)\n",
    "    p = linreg.predict(x_test)\n",
    "    e = p-y_test\n",
    "    xval_err += np.dot(e,e)\n",
    "    \n",
    "rmse_10cv_corr = np.sqrt(xval_err/len(x))"
   ]
  },
  {
   "cell_type": "code",
   "execution_count": 95,
   "metadata": {},
   "outputs": [
    {
     "name": "stdout",
     "output_type": "stream",
     "text": [
      "Method: Simple Linear Regression\n",
      "R2 score on training: 0.406220\n",
      "RMSE on training: 0.050995\n",
      "RMSE on 10-fold CV: 0.047749\n"
     ]
    }
   ],
   "source": [
    "method_name = 'Simple Linear Regression'\n",
    "print('Method: %s' %method_name)\n",
    "print('R2 score on training: %.6f'  %r2score_train_corr)\n",
    "print('RMSE on training: %.6f'  %rmse_train_corr)\n",
    "print('RMSE on 10-fold CV: %.6f'  %rmse_10cv_corr)"
   ]
  },
  {
   "cell_type": "code",
   "execution_count": null,
   "metadata": {
    "collapsed": true
   },
   "outputs": [],
   "source": []
  }
 ],
 "metadata": {
  "kernelspec": {
   "display_name": "Python 3",
   "language": "python",
   "name": "python3"
  },
  "language_info": {
   "codemirror_mode": {
    "name": "ipython",
    "version": 3
   },
   "file_extension": ".py",
   "mimetype": "text/x-python",
   "name": "python",
   "nbconvert_exporter": "python",
   "pygments_lexer": "ipython3",
   "version": "3.6.3"
  }
 },
 "nbformat": 4,
 "nbformat_minor": 2
}
