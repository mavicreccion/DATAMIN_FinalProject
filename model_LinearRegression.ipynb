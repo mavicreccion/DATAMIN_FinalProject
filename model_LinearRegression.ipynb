{
 "cells": [
  {
   "cell_type": "code",
   "execution_count": 37,
   "metadata": {
    "collapsed": true
   },
   "outputs": [],
   "source": [
    "from sklearn.model_selection import KFold, train_test_split\n",
    "from sklearn.metrics import r2_score, mean_squared_error\n",
    "from sklearn.linear_model import LinearRegression\n",
    "import numpy as np\n",
    "import pandas as pd\n",
    "import pylab as pl"
   ]
  },
  {
   "cell_type": "code",
   "execution_count": 38,
   "metadata": {
    "collapsed": true
   },
   "outputs": [],
   "source": [
    "weather_dataset1 = pd.read_csv('wwo_normalized_manila\\\\worldweatheronline_normalized_manila_2015_1day.csv', index_col=[0], parse_dates=[0], skipinitialspace=True)\n",
    "weather_dataset2 = pd.read_csv('wwo_normalized_manila\\\\worldweatheronline_normalized_manila_2016_1day.csv', index_col=[0], parse_dates=[0], skipinitialspace=True)\n",
    "weather_dataset3 = pd.read_csv('wwo_normalized_manila\\\\worldweatheronline_normalized_manila_2017_1day.csv', index_col=[0], parse_dates=[0], skipinitialspace=True)\n",
    "weather_dataset = []\n",
    "weather_dataset.append(weather_dataset1)\n",
    "weather_dataset.append(weather_dataset2)\n",
    "weather_dataset.append(weather_dataset3)\n",
    "weather_dataset = pd.concat(weather_dataset)"
   ]
  },
  {
   "cell_type": "markdown",
   "metadata": {},
   "source": [
    "# Using All Weather Variables"
   ]
  },
  {
   "cell_type": "code",
   "execution_count": 39,
   "metadata": {},
   "outputs": [],
   "source": [
    "# Remove unused columns and reorder \n",
    "weather_dataset = weather_dataset[['precipMM', 'tempC', 'windspeedKmph', 'cond', 'humidity', 'visibility', 'pressure', 'cloudcover', 'heatIndexC', 'dewPointC', 'windChillC', 'windGustKmph', 'feelsLikeC']]"
   ]
  },
  {
   "cell_type": "code",
   "execution_count": 40,
   "metadata": {
    "collapsed": true
   },
   "outputs": [],
   "source": [
    "# In order to do multiple regression we need to add a column of 1s for x0\n",
    "x = weather_dataset.loc[:, weather_dataset.columns != 'precipMM'].values.tolist()\n",
    "x = np.array([np.concatenate((v,[1])) for v in x])\n",
    "\n",
    "# independent variable\n",
    "y = weather_dataset['precipMM']"
   ]
  },
  {
   "cell_type": "markdown",
   "metadata": {},
   "source": [
    "## Multiple Linear Regression using train_test_split"
   ]
  },
  {
   "cell_type": "code",
   "execution_count": 41,
   "metadata": {},
   "outputs": [
    {
     "data": {
      "text/plain": [
       "LinearRegression(copy_X=True, fit_intercept=True, n_jobs=1, normalize=False)"
      ]
     },
     "execution_count": 41,
     "metadata": {},
     "output_type": "execute_result"
    }
   ],
   "source": [
    "# Splitting training and testing data\n",
    "X_train, X_test, Y_train, Y_test = train_test_split(x, y, test_size=0.33, shuffle=False)\n",
    "\n",
    "# Create linear regression object\n",
    "linreg = LinearRegression()\n",
    "\n",
    "# Train the model using the training sets\n",
    "linreg.fit(X_train,Y_train)"
   ]
  },
  {
   "cell_type": "code",
   "execution_count": 42,
   "metadata": {},
   "outputs": [
    {
     "name": "stdout",
     "output_type": "stream",
     "text": [
      "R2 score 0.818807886987\n",
      "RMSE 0.0281699271857\n"
     ]
    }
   ],
   "source": [
    "p = linreg.predict(X_test)\n",
    "\n",
    "# Compute RMSE and r2_score on training data\n",
    "r2score_train = r2_score(Y_test, p)\n",
    "rmse_train = np.sqrt(mean_squared_error(Y_test, p))\n",
    "\n",
    "print(\"R2 score\", r2score_train)\n",
    "print(\"RMSE\", rmse_train)"
   ]
  },
  {
   "cell_type": "code",
   "execution_count": 43,
   "metadata": {},
   "outputs": [
    {
     "name": "stdout",
     "output_type": "stream",
     "text": [
      "Regression Coefficients: \n",
      " [-0.3588366  -0.69885125  0.0029847  -0.17296988 -0.22105346  0.01416706\n",
      " -0.00594344 -0.3645611   0.16093909  0.33871665  0.92663534  0.23538938\n",
      "  0.        ]\n"
     ]
    }
   ],
   "source": [
    "# We can view the regression coefficients\n",
    "print( 'Regression Coefficients: \\n', linreg.coef_)"
   ]
  },
  {
   "cell_type": "code",
   "execution_count": 44,
   "metadata": {},
   "outputs": [
    {
     "data": {
      "image/png": "[encoded data removed]",
      "text/plain": [
       "<matplotlib.figure.Figure at 0x15301b3f4a8>"
      ]
     },
     "metadata": {},
     "output_type": "display_data"
    }
   ],
   "source": [
    "# Plot outputs\n",
    "%matplotlib inline\n",
    "pl.plot(p, Y_test,'ro')\n",
    "pl.plot([0,0.4],[0,0.4], 'g-')\n",
    "pl.xlabel('predicted')\n",
    "pl.ylabel('real')\n",
    "pl.show()"
   ]
  },
  {
   "cell_type": "markdown",
   "metadata": {},
   "source": [
    "## Multiple Linear Regression using 10-fold cross validation"
   ]
  },
  {
   "cell_type": "code",
   "execution_count": 45,
   "metadata": {
    "collapsed": true
   },
   "outputs": [],
   "source": [
    "# Now let's compute RMSE using 10-fold x-validation\n",
    "kf = KFold(n_splits=10, shuffle=False, random_state=None)\n",
    "xval_err = 0\n",
    "for train_index, test_index in kf.split(x):\n",
    "    x_train, x_test = x[train_index], x[test_index]\n",
    "    y_train, y_test = y[train_index], y[test_index]\n",
    "    \n",
    "    linreg.fit(x_train, y_train)\n",
    "    p = linreg.predict(x_test)\n",
    "    e = p-y_test\n",
    "    xval_err += np.dot(e,e)\n",
    "    \n",
    "rmse_10cv = np.sqrt(xval_err/len(x))"
   ]
  },
  {
   "cell_type": "code",
   "execution_count": 46,
   "metadata": {},
   "outputs": [
    {
     "name": "stdout",
     "output_type": "stream",
     "text": [
      "Method: Simple Linear Regression\n",
      "R2 score on training: 0.8188\n",
      "RMSE on training: 0.0282\n",
      "RMSE on 10-fold CV: 0.0210\n"
     ]
    }
   ],
   "source": [
    "method_name = 'Simple Linear Regression'\n",
    "print('Method: %s' %method_name)\n",
    "print('R2 score on training: %.4f'  %r2score_train)\n",
    "print('RMSE on training: %.4f'  %rmse_train)\n",
    "print('RMSE on 10-fold CV: %.4f'  %rmse_10cv)"
   ]
  },
  {
   "cell_type": "markdown",
   "metadata": {},
   "source": [
    "# Using Correlated Weather Variables"
   ]
  },
  {
   "cell_type": "code",
   "execution_count": 47,
   "metadata": {
    "scrolled": true
   },
   "outputs": [],
   "source": [
    "# Remove unused columns and reorder \n",
    "weather_dataset = weather_dataset[['precipMM', 'humidity', 'cloudcover', 'dewPointC']]"
   ]
  },
  {
   "cell_type": "code",
   "execution_count": 48,
   "metadata": {
    "collapsed": true
   },
   "outputs": [],
   "source": [
    "# In order to do multiple regression we need to add a column of 1s for x0\n",
    "x = weather_dataset.loc[:, weather_dataset.columns != 'precipMM'].values.tolist()\n",
    "x = np.array([np.concatenate((v,[1])) for v in x])\n",
    "\n",
    "# independent variable\n",
    "y = weather_dataset['precipMM']"
   ]
  },
  {
   "cell_type": "markdown",
   "metadata": {},
   "source": [
    "## Multiple Linear Regression using train_test_split"
   ]
  },
  {
   "cell_type": "code",
   "execution_count": 49,
   "metadata": {},
   "outputs": [
    {
     "data": {
      "text/plain": [
       "LinearRegression(copy_X=True, fit_intercept=True, n_jobs=1, normalize=False)"
      ]
     },
     "execution_count": 49,
     "metadata": {},
     "output_type": "execute_result"
    }
   ],
   "source": [
    "# Splitting training and testing data\n",
    "X_train, X_test, Y_train, Y_test = train_test_split(x, y, test_size=0.33, shuffle=False)\n",
    "\n",
    "# Create linear regression object\n",
    "linreg = LinearRegression()\n",
    "\n",
    "# Train the model using the training sets\n",
    "linreg.fit(X_train,Y_train)"
   ]
  },
  {
   "cell_type": "code",
   "execution_count": 50,
   "metadata": {},
   "outputs": [
    {
     "name": "stdout",
     "output_type": "stream",
     "text": [
      "R2 score 0.384693706189\n",
      "RMSE 0.051911282472\n"
     ]
    }
   ],
   "source": [
    "p = linreg.predict(X_test)\n",
    "\n",
    "# Compute RMSE and r2_score on training data\n",
    "r2score_train_corr = r2_score(Y_test, p)\n",
    "rmse_train_corr = np.sqrt(mean_squared_error(Y_test, p))\n",
    "\n",
    "print(\"R2 score\", r2score_train_corr)\n",
    "print(\"RMSE\", rmse_train_corr)"
   ]
  },
  {
   "cell_type": "code",
   "execution_count": 51,
   "metadata": {},
   "outputs": [
    {
     "name": "stdout",
     "output_type": "stream",
     "text": [
      "Regression Coefficients: \n",
      " [ 0.1061736   0.10503144  0.06211858  0.        ]\n"
     ]
    }
   ],
   "source": [
    "# We can view the regression coefficients\n",
    "print( 'Regression Coefficients: \\n', linreg.coef_)"
   ]
  },
  {
   "cell_type": "code",
   "execution_count": 52,
   "metadata": {},
   "outputs": [
    {
     "data": {
      "image/png": "[encoded data removed]",
      "text/plain": [
       "<matplotlib.figure.Figure at 0x153024dbb38>"
      ]
     },
     "metadata": {},
     "output_type": "display_data"
    }
   ],
   "source": [
    "# Plot outputs\n",
    "%matplotlib inline\n",
    "pl.plot(p, Y_test,'ro')\n",
    "pl.plot([0,0.4],[0,0.4], 'g-')\n",
    "pl.xlabel('predicted')\n",
    "pl.ylabel('real')\n",
    "pl.show()"
   ]
  },
  {
   "cell_type": "markdown",
   "metadata": {},
   "source": [
    "## Multiple Linear Regression using 10-fold cross validation"
   ]
  },
  {
   "cell_type": "code",
   "execution_count": 53,
   "metadata": {
    "collapsed": true
   },
   "outputs": [],
   "source": [
    "# Now let's compute RMSE using 10-fold x-validation\n",
    "kf = KFold(n_splits=10, shuffle=False, random_state=None)\n",
    "xval_err = 0\n",
    "for train_index, test_index in kf.split(x):\n",
    "    x_train, x_test = x[train_index], x[test_index]\n",
    "    y_train, y_test = y[train_index], y[test_index]\n",
    "    \n",
    "    linreg.fit(x_train, y_train)\n",
    "    p = linreg.predict(x_test)\n",
    "    e = p-y_test\n",
    "    xval_err += np.dot(e,e)\n",
    "    \n",
    "rmse_10cv_corr = np.sqrt(xval_err/len(x))"
   ]
  },
  {
   "cell_type": "code",
   "execution_count": 54,
   "metadata": {},
   "outputs": [
    {
     "name": "stdout",
     "output_type": "stream",
     "text": [
      "Method: Simple Linear Regression\n",
      "R2 score on training: 0.3847\n",
      "RMSE on training: 0.0519\n",
      "RMSE on 10-fold CV: 0.0431\n"
     ]
    }
   ],
   "source": [
    "method_name = 'Simple Linear Regression'\n",
    "print('Method: %s' %method_name)\n",
    "print('R2 score on training: %.4f'  %r2score_train_corr)\n",
    "print('RMSE on training: %.4f'  %rmse_train_corr)\n",
    "print('RMSE on 10-fold CV: %.4f'  %rmse_10cv_corr)"
   ]
  }
 ],
 "metadata": {
  "kernelspec": {
   "display_name": "Python 3",
   "language": "python",
   "name": "python3"
  },
  "language_info": {
   "codemirror_mode": {
    "name": "ipython",
    "version": 3
   },
   "file_extension": ".py",
   "mimetype": "text/x-python",
   "name": "python",
   "nbconvert_exporter": "python",
   "pygments_lexer": "ipython3",
   "version": "3.6.3"
  }
 },
 "nbformat": 4,
 "nbformat_minor": 2
}
